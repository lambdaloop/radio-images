{
 "cells": [
  {
   "cell_type": "code",
   "execution_count": 201,
   "metadata": {
    "collapsed": false
   },
   "outputs": [
    {
     "name": "stdout",
     "output_type": "stream",
     "text": [
      "Using matplotlib backend: Qt4Agg\n",
      "Populating the interactive namespace from numpy and matplotlib\n"
     ]
    },
    {
     "name": "stderr",
     "output_type": "stream",
     "text": [
      "WARNING: pylab import has clobbered these variables: ['dist', 'fft']\n",
      "`%matplotlib` prevents importing * from pylab and numpy\n"
     ]
    }
   ],
   "source": [
    "%pylab\n",
    "# Import functions and libraries\n",
    "import numpy as np\n",
    "import matplotlib.pyplot as plt\n",
    "import pyaudio\n",
    "import Queue\n",
    "import threading,time\n",
    "import sys\n",
    "\n",
    "from numpy import pi\n",
    "from numpy import sin\n",
    "from numpy import zeros\n",
    "from numpy import r_\n",
    "from numpy import ones\n",
    "from scipy import signal\n",
    "from scipy import integrate\n",
    "from __future__ import division\n",
    "\n",
    "import threading,time\n",
    "import multiprocessing\n",
    "\n",
    "from rtlsdr import RtlSdr\n",
    "from numpy import mean\n",
    "from numpy import power\n",
    "from numpy.fft import fft\n",
    "from numpy.fft import fftshift\n",
    "from numpy.fft import ifft\n",
    "from numpy.fft import ifftshift\n",
    "import bitarray\n",
    "from  scipy.io.wavfile import read as wavread\n",
    "import serial\n",
    "\n",
    "%matplotlib inline"
   ]
  },
  {
   "cell_type": "code",
   "execution_count": 202,
   "metadata": {
    "collapsed": true
   },
   "outputs": [],
   "source": [
    "# Plot an image of the spectrogram y, with the axis labeled with time tl,\n",
    "# and frequency fl\n",
    "#\n",
    "# t_range -- time axis label, nt samples\n",
    "# f_range -- frequency axis label, nf samples\n",
    "# y -- spectrogram, nf by nt array\n",
    "# dbf -- Dynamic range of the spect\n",
    "\n",
    "def sg_plot( t_range, f_range, y, dbf = 60) :\n",
    "    eps = 1e-3\n",
    "    \n",
    "    # find maximum\n",
    "    y_max = abs(y).max()\n",
    "    \n",
    "    # compute 20*log magnitude, scaled to the max\n",
    "    y_log = 20.0 * np.log10( abs( y ) / y_max + eps )\n",
    "    \n",
    "    fig=figure(figsize=(15,6))\n",
    "    \n",
    "    plt.imshow( np.flipud( 64.0*(y_log + dbf)/dbf ), extent= t_range  + f_range ,cmap=plt.cm.gray, aspect='auto')\n",
    "    plt.xlabel('Time, s')\n",
    "    plt.ylabel('Frequency, Hz')\n",
    "    plt.tight_layout()\n",
    "\n",
    "\n",
    "def myspectrogram_hann_ovlp(x, m, fs, fc,dbf = 60):\n",
    "    # Plot the spectrogram of x.\n",
    "    # First take the original signal x and split it into blocks of length m\n",
    "    # This corresponds to using a rectangular window %\n",
    "    \n",
    "    \n",
    "    isreal_bool = isreal(x).all()\n",
    "    \n",
    "    # pad x up to a multiple of m \n",
    "    lx = len(x);\n",
    "    nt = (lx + m - 1) // m\n",
    "    x = append(x,zeros(-lx+nt*m))\n",
    "    x = x.reshape((m/2,nt*2), order='F')\n",
    "    x = concatenate((x,x),axis=0)\n",
    "    x = x.reshape((m*nt*2,1),order='F')\n",
    "    x = x[r_[m//2:len(x),ones(m//2)*(len(x)-1)].astype(int)].reshape((m,nt*2),order='F')\n",
    "    \n",
    "    \n",
    "    xmw = x * hanning(m)[:,None];\n",
    "    \n",
    "    \n",
    "    # frequency index\n",
    "    t_range = [0.0, lx / fs]\n",
    "    \n",
    "    if isreal_bool:\n",
    "        f_range = [ fc, fs / 2.0 + fc]\n",
    "        xmf = np.fft.fft(xmw,len(xmw),axis=0)\n",
    "        sg_plot(t_range, f_range, xmf[0:m/2,:],dbf=dbf)\n",
    "        print 1\n",
    "    else:\n",
    "        f_range = [-fs / 2.0 + fc, fs / 2.0 + fc]\n",
    "        xmf = np.fft.fftshift( np.fft.fft( xmw ,len(xmw),axis=0), axes=0 )\n",
    "        sg_plot(t_range, f_range, xmf,dbf = dbf)\n",
    "    \n",
    "    return t_range, f_range, xmf\n",
    "\n",
    "def play_audio( Q, p, fs , dev, ser=\"\", keydelay=0.200):\n",
    "    # play_audio plays audio with sampling rate = fs\n",
    "    # Q - A queue object from which to play\n",
    "    # p   - pyAudio object\n",
    "    # fs  - sampling rate\n",
    "    # dev - device number\n",
    "    # ser - pyserial device to key the radio\n",
    "    # keydelay - delay after keying the radio\n",
    "    \n",
    "    # Example:\n",
    "    # fs = 44100\n",
    "    # p = pyaudio.PyAudio() #instantiate PyAudio\n",
    "    # Q = Queue.queue()\n",
    "    # Q.put(data)\n",
    "    # Q.put(\"EOT\") # when function gets EOT it will quit\n",
    "    # play_audio( Q, p, fs,1 ) # play audio\n",
    "    # p.terminate() # terminate pyAudio\n",
    "    \n",
    "    # open output stream\n",
    "    ostream = p.open(format=pyaudio.paFloat32, channels=1, rate=int(fs),output=True, \n",
    "                     output_device_index=dev, frames_per_buffer=128)\n",
    "    # play audio\n",
    "    while (1):\n",
    "        data = Q.get()\n",
    "        if data==\"EOT\"  :\n",
    "            break\n",
    "        elif (data==\"KEYOFF\"  and ser!=\"\"):\n",
    "            time.sleep(keydelay)\n",
    "            ser.setDTR(0)\n",
    "            #print(\"keyoff\\n\")\n",
    "        elif (data==\"KEYON\" and ser!=\"\"):\n",
    "            ser.setDTR(1)  # key PTT\n",
    "            #print(\"keyon\\n\")\n",
    "            time.sleep(keydelay) # wait 200ms (default) to let the power amp to ramp up\n",
    "            \n",
    "        else:\n",
    "            try:\n",
    "                ostream.write( data.astype(np.float32).tostring() )\n",
    "            except:\n",
    "                print(\"Exception\")\n",
    "                break\n",
    "            \n",
    "def record_audio( queue, p, fs ,dev,chunk=1024):\n",
    "    # record_audio records audio with sampling rate = fs\n",
    "    # queue - output data queue\n",
    "    # p     - pyAudio object\n",
    "    # fs    - sampling rate\n",
    "    # dev   - device number \n",
    "    # chunk - chunks of samples at a time default 1024\n",
    "    #\n",
    "    # Example:\n",
    "    # fs = 44100\n",
    "    # Q = Queue.queue()\n",
    "    # p = pyaudio.PyAudio() #instantiate PyAudio\n",
    "    # record_audio( Q, p, fs, 1) # \n",
    "    # p.terminate() # terminate pyAudio\n",
    "    \n",
    "   \n",
    "    istream = p.open(format=pyaudio.paFloat32, channels=1, rate=int(fs),input=True,input_device_index=dev,\n",
    "                     frames_per_buffer=chunk)\n",
    "\n",
    "    # record audio in chunks and append to frames\n",
    "    frames = [];\n",
    "    while (1):\n",
    "        try:  # when the pyaudio object is distroyed stops\n",
    "            data_str = istream.read(chunk) # read a chunk of data\n",
    "        except:\n",
    "            break\n",
    "        data_flt = np.fromstring( data_str, 'float32' ) # convert string to float\n",
    "        queue.put( data_flt ) # append to list\n",
    "\n",
    "def text2Morse(text,fc,fs,dt):\n",
    "    CODE = {'A': '.-',     'B': '-...',   'C': '-.-.', \n",
    "        'D': '-..',    'E': '.',      'F': '..-.',\n",
    "        'G': '--.',    'H': '....',   'I': '..',\n",
    "        'J': '.---',   'K': '-.-',    'L': '.-..',\n",
    "        'M': '--',     'N': '-.',     'O': '---',\n",
    "        'P': '.--.',   'Q': '--.-',   'R': '.-.',\n",
    "     \t'S': '...',    'T': '-',      'U': '..-',\n",
    "        'V': '...-',   'W': '.--',    'X': '-..-',\n",
    "        'Y': '-.--',   'Z': '--..',\n",
    "        \n",
    "        '0': '-----',  '1': '.----',  '2': '..---',\n",
    "        '3': '...--',  '4': '....-',  '5': '.....',\n",
    "        '6': '-....',  '7': '--...',  '8': '---..',\n",
    "        '9': '----.',\n",
    "\n",
    "        ' ': ' ', \"'\": '.----.', '(': '-.--.-',  ')': '-.--.-',\n",
    "        ',': '--..--', '-': '-....-', '.': '.-.-.-',\n",
    "        '/': '-..-.',   ':': '---...', ';': '-.-.-.',\n",
    "        '?': '..--..', '_': '..--.-'\n",
    "        }\n",
    "    \n",
    "    Ndot= 1.0*fs*dt\n",
    "    Ndah = 3*Ndot\n",
    "    \n",
    "    sdot = sin(2*pi*fc*r_[0.0:Ndot]/fs)\n",
    "    sdah = sin(2*pi*fc*r_[0.0:Ndah]/fs)\n",
    "    \n",
    "    # convert to dit dah\n",
    "    mrs = \"\"\n",
    "    for char in text:\n",
    "        mrs = mrs + CODE[char.upper()] + \"*\"\n",
    "    \n",
    "    sig = zeros(1)\n",
    "    for char in mrs:\n",
    "        if char == \" \":\n",
    "            sig = concatenate((sig,zeros(Ndot*7)))\n",
    "        if char == \"*\":\n",
    "            sig = concatenate((sig,zeros(Ndot*3)))\n",
    "        if char == \".\":\n",
    "            sig = concatenate((sig,sdot,zeros(Ndot)))\n",
    "        if char == \"-\":\n",
    "            sig = concatenate((sig,sdah,zeros(Ndot)))\n",
    "    return sig\n",
    "            \n",
    "\n",
    "def printDevNumbers(p):\n",
    "    N = p.get_device_count()\n",
    "    for n in range(0,N):\n",
    "        name = p.get_device_info_by_index(n).get('name')\n",
    "        print n, name\n",
    "        "
   ]
  },
  {
   "cell_type": "code",
   "execution_count": 203,
   "metadata": {
    "collapsed": false
   },
   "outputs": [
    {
     "name": "stdout",
     "output_type": "stream",
     "text": [
      "2205.0\n"
     ]
    }
   ],
   "source": [
    "fs = 44100  # sampling rate\n",
    "Ns = 20 # samples per bit\n",
    "baud = float(fs)/Ns  # symbol rate\n",
    "print(baud)\n",
    "\n",
    "f_low = 1200.0\n",
    "f_high = 2400.0"
   ]
  },
  {
   "cell_type": "code",
   "execution_count": 204,
   "metadata": {
    "collapsed": false
   },
   "outputs": [],
   "source": [
    "Nbits = 4801  # number of bits\n",
    "N = Nbits * Ns\n",
    "bits = randn(Nbits) > 0"
   ]
  },
  {
   "cell_type": "code",
   "execution_count": 205,
   "metadata": {
    "collapsed": true
   },
   "outputs": [],
   "source": [
    "def afsk(bits, baud, fs=44100.0):\n",
    "    Ns = int(float(fs) / baud)\n",
    "    M = np.repeat(bits*2-1,Ns)\n",
    "    \n",
    "    f0 = (f_low + f_high) / 2.0\n",
    "    delta_f = (f_high - f_low) / 2.0\n",
    "\n",
    "    # compute phase by integrating frequency\n",
    "    ph = 2*pi*cumsum(f0 + M.ravel()*delta_f)/fs\n",
    "    FSK = sin(ph)\n",
    "\n",
    "    return FSK\n",
    "    \n",
    "def nc_afsk_demod(sig, TBW=2.0, N=74,  fs = 44100.0):\n",
    "    #  non-coherent demodulation of afsk1200\n",
    "    # function returns the NRZI (without rectifying it)\n",
    "\n",
    "    BW =  float(TBW) / N\n",
    "    \n",
    "    h_mark = signal.firwin(numtaps=N, cutoff=BW) * np.exp(1j * 2 * pi * f_low/fs * arange(N))\n",
    "    h_space = signal.firwin(numtaps=N, cutoff=BW) * np.exp(1j * 2 * pi * f_high/fs * arange(N))\n",
    "\n",
    "    v_space = signal.fftconvolve(sig, h_space)\n",
    "    v_mark  = signal.fftconvolve(sig, h_mark)\n",
    "\n",
    "    NRZa = abs(v_space) - abs(v_mark)\n",
    "\n",
    "    return NRZa[N/2:-N/2+1]\n",
    "\n",
    "def decode_bits(x, fs=44100.0, baud=1200):\n",
    "    NRZI = np.append([0], x)\n",
    "    dNRZI = NRZI[1:] - NRZI[:-1]\n",
    "    # find the position of the non-zero components. These are the indexes of the zero-crossings. \n",
    "    transit = nonzero(dNRZI)[0]\n",
    "    # Transition time is the difference between zero-crossings\n",
    "    transTime = transit[1:]-transit[:-1]\n",
    "    \n",
    "    state = (x[0] + 1) / 2.0\n",
    "    \n",
    "    samples_bit = float(fs) / baud\n",
    "    \n",
    "    bits = []\n",
    "    \n",
    "    for t in transTime:\n",
    "        n = int(round(t / samples_bit + 0.05))\n",
    "        if n > 0:\n",
    "            bits.extend([state] * n)\n",
    "        state = 1 - state\n",
    "    \n",
    "    return np.array(bits)\n",
    "\n",
    "def decode_bits2(NRZI, fs=44100.0, baud=1200):\n",
    "\n",
    "    samples_bit = float(fs) / baud\n",
    "    \n",
    "    offset = samples_bit / 2.0 \n",
    "    i = offset\n",
    "    \n",
    "    n = 0\n",
    "    \n",
    "    bits = []\n",
    "    \n",
    "    while i < len(NRZI):\n",
    "        bits.append(np.mean(NRZI[i:i+8]) > 0)\n",
    "        n += 1\n",
    "        i = int(n*samples_bit + offset)\n",
    "    \n",
    "    bits = np.array(bits)  \n",
    "    \n",
    "    return bits\n"
   ]
  },
  {
   "cell_type": "code",
   "execution_count": 206,
   "metadata": {
    "collapsed": true
   },
   "outputs": [],
   "source": [
    "def genChirpPulse(Npulse, f0, f1, fs):\n",
    "    #     Function generates an analytic function of a chirp pulse\n",
    "    #     Inputs:\n",
    "    #             Npulse - pulse length in samples\n",
    "    #             f0     - starting frequency of chirp\n",
    "    #             f1     - end frequency of chirp\n",
    "    #             fs     - sampling frequency\n",
    "    t = r_[0.0:Npulse]/fs\n",
    "    k = (f1 - f0) / max(t)\n",
    "    f_of_t = f0 + k * t\n",
    "    phi_of_t = cumsum(f_of_t) * 2 * pi * 1.0/fs\n",
    "    s_chirp_a = exp(1j * phi_of_t)\n",
    "    return s_chirp_a\n",
    "\n",
    "def crossCorr( rcv, pulse_a ):\n",
    "    return signal.fftconvolve(rcv, pulse_a[::-1], mode=\"full\")"
   ]
  },
  {
   "cell_type": "code",
   "execution_count": 207,
   "metadata": {
    "collapsed": false
   },
   "outputs": [
    {
     "data": {
      "text/plain": [
       "<Container object of 3 artists>"
      ]
     },
     "execution_count": 207,
     "metadata": {},
     "output_type": "execute_result"
    },
    {
     "data": {
      "image/png": "[encoded data removed]",
      "text/plain": [
       "<matplotlib.figure.Figure at 0x7f91ec8af490>"
      ]
     },
     "metadata": {},
     "output_type": "display_data"
    },
    {
     "data": {
      "image/png": "[encoded data removed]",
      "text/plain": [
       "<matplotlib.figure.Figure at 0x7f91ec8afdd0>"
      ]
     },
     "metadata": {},
     "output_type": "display_data"
    },
    {
     "data": {
      "image/png": "[encoded data removed]",
      "text/plain": [
       "<matplotlib.figure.Figure at 0x7f91e85b7310>"
      ]
     },
     "metadata": {},
     "output_type": "display_data"
    }
   ],
   "source": [
    "# test modulation and demodulation\n",
    "\n",
    "figure()\n",
    "sig = afsk(bits[:100], baud, fs)\n",
    "plot(sig)\n",
    "figure()\n",
    "stem(np.int8(decode_bits2(np.sign(nc_afsk_demod(sig)), baud=baud)))\n",
    "figure()\n",
    "stem(np.int8(bits[:100]))"
   ]
  },
  {
   "cell_type": "code",
   "execution_count": 208,
   "metadata": {
    "collapsed": false
   },
   "outputs": [
    {
     "data": {
      "text/plain": [
       "[<matplotlib.lines.Line2D at 0x7f91ebf8ee10>]"
      ]
     },
     "execution_count": 208,
     "metadata": {},
     "output_type": "execute_result"
    },
    {
     "data": {
      "image/png": "[encoded data removed]",
      "text/plain": [
       "<matplotlib.figure.Figure at 0x7f91ec63e710>"
      ]
     },
     "metadata": {},
     "output_type": "display_data"
    }
   ],
   "source": [
    "msg = afsk(1.0 * bits, baud, fs)\n",
    "plot(msg[:200])"
   ]
  },
  {
   "cell_type": "code",
   "execution_count": 209,
   "metadata": {
    "collapsed": false
   },
   "outputs": [
    {
     "name": "stdout",
     "output_type": "stream",
     "text": [
      "0 HDA NVidia: CS4206 Analog (hw:0,0)\n",
      "1 HDA NVidia: CS4206 Digital (hw:0,1)\n",
      "2 HDA NVidia: HDMI 0 (hw:0,3)\n",
      "3 HDA NVidia: HDMI 0 (hw:0,7)\n",
      "4 HDA NVidia: HDMI 0 (hw:0,8)\n",
      "5 USB PnP Sound Device: Audio (hw:1,0)\n",
      "6 sysdefault\n",
      "7 front\n",
      "8 surround21\n",
      "9 surround40\n",
      "10 surround51\n",
      "11 surround71\n",
      "12 iec958\n",
      "13 spdif\n",
      "14 hdmi\n",
      "15 pulse\n",
      "16 dmixout\n",
      "17 dmix\n",
      "18 default\n"
     ]
    }
   ],
   "source": [
    "def printDevNumbers(p):\n",
    "    N = p.get_device_count()\n",
    "    for n in range(0,N):\n",
    "        name = p.get_device_info_by_index(n).get('name')\n",
    "        print n, name\n",
    "        \n",
    "p = pyaudio.PyAudio()\n",
    "printDevNumbers(p)\n",
    "p.terminate()"
   ]
  },
  {
   "cell_type": "code",
   "execution_count": 210,
   "metadata": {
    "collapsed": true
   },
   "outputs": [],
   "source": [
    "# CHANGE!!!!\n",
    "dusb_in = 5\n",
    "dusb_out = 5\n",
    "din = 0\n",
    "dout = 0"
   ]
  },
  {
   "cell_type": "code",
   "execution_count": 211,
   "metadata": {
    "collapsed": false
   },
   "outputs": [],
   "source": [
    "if sys.platform == 'darwin':  # Mac\n",
    "    s = serial.Serial(port='/dev/tty.SLAB_USBtoUART')\n",
    "else:                         #windows\n",
    "    s = serial.Serial(port='/dev/ttyUSB0') ##### CHANGE !!!!!!\n",
    "s.setDTR(0)"
   ]
  },
  {
   "cell_type": "code",
   "execution_count": 212,
   "metadata": {
    "collapsed": false
   },
   "outputs": [
    {
     "name": "stdout",
     "output_type": "stream",
     "text": [
      "defined already\n"
     ]
    }
   ],
   "source": [
    "try:\n",
    "    sdr = RtlSdr()\n",
    "except IOError:\n",
    "    print('defined already')"
   ]
  },
  {
   "cell_type": "code",
   "execution_count": 213,
   "metadata": {
    "collapsed": true
   },
   "outputs": [],
   "source": [
    "#sdr.close()"
   ]
  },
  {
   "cell_type": "code",
   "execution_count": 214,
   "metadata": {
    "collapsed": false
   },
   "outputs": [],
   "source": [
    "t = r_[0:1*44100.0]/44100.0\n",
    "sig2 = 0.5*sin(2*pi*500*t)\n",
    "zero_sample = np.zeros(int(44100 * 1.0))\n",
    "\n",
    "pulse = genChirpPulse(1600, 500.0, 3500.0, 44100.0)\n",
    "pulse = pulse.real / 2.0\n",
    "\n",
    "record_len = int((len(msg) + len(pulse) + len(zero_sample)) / float(fs)) + 2\n",
    "if record_len % 2 != 0:\n",
    "    record_len += 1"
   ]
  },
  {
   "cell_type": "code",
   "execution_count": 215,
   "metadata": {
    "collapsed": false
   },
   "outputs": [],
   "source": [
    "freq_offset = 83.2e3\n",
    "\n",
    "sample_rate = 240e3\n",
    "center_freq = 443.582e6 - freq_offset\n",
    "#center_freq = 145.442e6 #- freq_offset\n",
    "\n",
    "sdr.sample_rate = sample_rate  \n",
    "sdr.center_freq = center_freq   \n",
    "sdr.gain = 2"
   ]
  },
  {
   "cell_type": "code",
   "execution_count": 216,
   "metadata": {
    "collapsed": false
   },
   "outputs": [],
   "source": [
    "# creates a queue\n",
    "Qout = Queue.Queue()\n",
    "\n",
    "# initialize a serial port \n",
    "s.setDTR(0)\n",
    "# create a pyaudio object\n",
    "p = pyaudio.PyAudio()\n",
    "\n",
    "t_play = threading.Thread(target = play_audio,   args = (Qout,   p, 44100, dusb_out, s ,0.2 ))\n",
    "\n",
    "#Qout.put(sig2)\n",
    "Qout.put(\"KEYON\")\n",
    "Qout.put(zero_sample)\n",
    "Qout.put(pulse)\n",
    "Qout.put(np.zeros(Ns*8))\n",
    "Qout.put(msg)\n",
    "Qout.put(np.zeros(1024))\n",
    "Qout.put(\"KEYOFF\")\n",
    "Qout.put(\"EOT\")\n",
    "\n",
    "# play audio from Queue \n",
    "t_play.start()\n",
    "\n",
    "N_samples = sample_rate*record_len # approximately seconds\n",
    "sdr_samples = sdr.read_samples(N_samples)   # get samples\n",
    "\n",
    "# must wait for the queue to empty before terminating pyaudio\n",
    "while not(Qout.empty()) :\n",
    "    time.sleep(1)\n",
    "    \n",
    "\n",
    "p.terminate()# kill a playing thread"
   ]
  },
  {
   "cell_type": "code",
   "execution_count": null,
   "metadata": {
    "collapsed": true
   },
   "outputs": [],
   "source": []
  },
  {
   "cell_type": "code",
   "execution_count": 217,
   "metadata": {
    "collapsed": false
   },
   "outputs": [],
   "source": [
    "# _ = myspectrogram_hann_ovlp(sdr_samples, 2048, sample_rate, center_freq)"
   ]
  },
  {
   "cell_type": "code",
   "execution_count": 218,
   "metadata": {
    "collapsed": false
   },
   "outputs": [
    {
     "data": {
      "text/plain": [
       "<matplotlib.figure.Figure at 0x7f91e8659cd0>"
      ]
     },
     "execution_count": 218,
     "metadata": {},
     "output_type": "execute_result"
    },
    {
     "data": {
      "text/plain": [
       "<matplotlib.figure.Figure at 0x7f91e8659cd0>"
      ]
     },
     "metadata": {},
     "output_type": "display_data"
    }
   ],
   "source": [
    "t = arange(len(sdr_samples)) / sample_rate\n",
    "demod = exp(-2j*pi*freq_offset*t)\n",
    "y = sdr_samples * demod\n",
    "\n",
    "from scipy import signal  #should be imported already?\n",
    "\n",
    "sig = angle(y[1:] * conj(y[:-1]))\n",
    "\n",
    "h = signal.firwin(256,6000.0,nyq=sample_rate/2.0)\n",
    "sigf = signal.fftconvolve(sig, h)\n",
    "\n",
    "sigfd = sigf[::4]\n",
    "\n",
    "fs = 44100.0\n",
    "sigfdd = signal.resample(sigfd, len(sigfd) * float(fs) / (sample_rate / 4.0))\n",
    "\n",
    "wsize = 1024\n",
    "dbf = 20\n",
    "ss = sigfdd\n",
    "# ss = sigfd[35000:-8000]\n",
    "\n",
    "figure()\n",
    "# _ = myspectrogram_hann_ovlp(ss, wsize, fs, 0, dbf)\n"
   ]
  },
  {
   "cell_type": "code",
   "execution_count": 219,
   "metadata": {
    "collapsed": false
   },
   "outputs": [
    {
     "data": {
      "text/plain": [
       "[<matplotlib.lines.Line2D at 0x7f91eb5d4f50>]"
      ]
     },
     "execution_count": 219,
     "metadata": {},
     "output_type": "execute_result"
    },
    {
     "data": {
      "image/png": "[encoded data removed]",
      "text/plain": [
       "<matplotlib.figure.Figure at 0x7f91ebed2e50>"
      ]
     },
     "metadata": {},
     "output_type": "display_data"
    }
   ],
   "source": [
    "plot(abs(crossCorr(ss[10000:60000], pulse)))"
   ]
  },
  {
   "cell_type": "code",
   "execution_count": 220,
   "metadata": {
    "collapsed": false
   },
   "outputs": [
    {
     "data": {
      "text/plain": [
       "(55686, 151706)"
      ]
     },
     "execution_count": 220,
     "metadata": {},
     "output_type": "execute_result"
    }
   ],
   "source": [
    "p = np.argmax(crossCorr(ss[20000:60000], pulse))\n",
    "start, end = 20000 + p+(Ns*8), 20000 + p+len(msg)+(Ns*8)\n",
    "start, end"
   ]
  },
  {
   "cell_type": "code",
   "execution_count": 221,
   "metadata": {
    "collapsed": false
   },
   "outputs": [],
   "source": [
    "pp = ss[start:end]"
   ]
  },
  {
   "cell_type": "code",
   "execution_count": 222,
   "metadata": {
    "collapsed": false
   },
   "outputs": [],
   "source": [
    "demod = nc_afsk_demod(pp, TBW=1.0)\n",
    "demod = demod - np.mean(demod)\n",
    "decoded = decode_bits2(np.sign(demod), baud=baud)\n",
    "\n",
    "#plot(demod)"
   ]
  },
  {
   "cell_type": "code",
   "execution_count": 223,
   "metadata": {
    "collapsed": false
   },
   "outputs": [
    {
     "name": "stdout",
     "output_type": "stream",
     "text": [
      "1\n",
      "0.0208289939596\n"
     ]
    },
    {
     "data": {
      "text/plain": [
       "[('replace', 4800, 4800)]"
      ]
     },
     "execution_count": 223,
     "metadata": {},
     "output_type": "execute_result"
    }
   ],
   "source": [
    "import Levenshtein as leven\n",
    "\n",
    "ds = ''.join([str(int(x)) for x in decoded])\n",
    "bs = ''.join([str(int(x)) for x in bits])\n",
    "\n",
    "dist = leven.distance(bs, ds)\n",
    "print(dist)\n",
    "print(100 * float(dist) / Nbits)\n",
    "leven.editops(bs, ds)[:10]"
   ]
  },
  {
   "cell_type": "code",
   "execution_count": 224,
   "metadata": {
    "collapsed": false
   },
   "outputs": [
    {
     "name": "stdout",
     "output_type": "stream",
     "text": [
      "(4801, 4801)\n"
     ]
    },
    {
     "data": {
      "image/png": "[encoded data removed]",
      "text/plain": [
       "<matplotlib.figure.Figure at 0x7f91e8c65610>"
      ]
     },
     "metadata": {},
     "output_type": "display_data"
    },
    {
     "data": {
      "image/png": "[encoded data removed]",
      "text/plain": [
       "<matplotlib.figure.Figure at 0x7f91ec6ba790>"
      ]
     },
     "metadata": {},
     "output_type": "display_data"
    }
   ],
   "source": [
    "figure()\n",
    "stem(decoded[:100])\n",
    "figure()\n",
    "stem(bits[:100])\n",
    "\n",
    "print(len(decoded), len(bits))"
   ]
  },
  {
   "cell_type": "code",
   "execution_count": null,
   "metadata": {
    "collapsed": true
   },
   "outputs": [],
   "source": []
  },
  {
   "cell_type": "code",
   "execution_count": null,
   "metadata": {
    "collapsed": true
   },
   "outputs": [],
   "source": []
  },
  {
   "cell_type": "code",
   "execution_count": null,
   "metadata": {
    "collapsed": true
   },
   "outputs": [],
   "source": []
  }
 ],
 "metadata": {
  "kernelspec": {
   "display_name": "Python 2",
   "language": "python",
   "name": "python2"
  },
  "language_info": {
   "codemirror_mode": {
    "name": "ipython",
    "version": 2
   },
   "file_extension": ".py",
   "mimetype": "text/x-python",
   "name": "python",
   "nbconvert_exporter": "python",
   "pygments_lexer": "ipython2",
   "version": "2.7.9"
  }
 },
 "nbformat": 4,
 "nbformat_minor": 0
}
