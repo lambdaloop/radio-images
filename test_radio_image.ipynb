{
 "cells": [
  {
   "cell_type": "code",
   "execution_count": 44,
   "metadata": {
    "collapsed": false
   },
   "outputs": [
    {
     "name": "stdout",
     "output_type": "stream",
     "text": [
      "Using matplotlib backend: Qt4Agg\n",
      "Populating the interactive namespace from numpy and matplotlib\n"
     ]
    },
    {
     "name": "stderr",
     "output_type": "stream",
     "text": [
      "WARNING: pylab import has clobbered these variables: ['dist', 'fft']\n",
      "`%matplotlib` prevents importing * from pylab and numpy\n"
     ]
    }
   ],
   "source": [
    "%pylab\n",
    "# Import functions and libraries\n",
    "import numpy as np\n",
    "import matplotlib.pyplot as plt\n",
    "import pyaudio\n",
    "import Queue\n",
    "import threading,time\n",
    "import sys\n",
    "\n",
    "from numpy import pi\n",
    "from numpy import sin\n",
    "from numpy import zeros\n",
    "from numpy import r_\n",
    "from numpy import ones\n",
    "from scipy import signal\n",
    "from scipy import integrate\n",
    "from __future__ import division\n",
    "\n",
    "import threading,time\n",
    "import multiprocessing\n",
    "\n",
    "from rtlsdr import RtlSdr, limit_time\n",
    "from numpy import mean\n",
    "from numpy import power\n",
    "from numpy.fft import fft\n",
    "from numpy.fft import fftshift\n",
    "from numpy.fft import ifft\n",
    "from numpy.fft import ifftshift\n",
    "import bitarray\n",
    "from  scipy.io.wavfile import read as wavread\n",
    "import serial\n",
    "\n",
    "%matplotlib inline"
   ]
  },
  {
   "cell_type": "code",
   "execution_count": 47,
   "metadata": {
    "collapsed": false
   },
   "outputs": [],
   "source": [
    "import util\n",
    "\n",
    "from radio import *\n",
    "from encoding import *\n",
    "from radio_params import *\n",
    "from radio_transmit import *\n"
   ]
  },
  {
   "cell_type": "code",
   "execution_count": 48,
   "metadata": {
    "collapsed": false
   },
   "outputs": [
    {
     "name": "stdout",
     "output_type": "stream",
     "text": [
      "Found image with width 800 and height 1000\n",
      "Downsampling 2 times...\n",
      "Checking if cartoon...\n",
      "Size is 647416 bits\n",
      "Not a cartoon, continuing...\n",
      "Downsampling 0 times...\n",
      "Finished transform to Y, Cb, Cr\n",
      "Downsampling Cb and Cr...\n",
      "Encoding Y...\n",
      "Encoding Cb...\n",
      "Encoding Cr...\n",
      "Compressing...\n",
      "Compressed to 108776 bits\n"
     ]
    }
   ],
   "source": [
    "x = compressandencode('Marconi.tiff')"
   ]
  },
  {
   "cell_type": "code",
   "execution_count": 49,
   "metadata": {
    "collapsed": false
   },
   "outputs": [],
   "source": [
    "# imm = decompressanddecode(x)\n",
    "# ims(np.clip(imm, 0, 255)/256.0)"
   ]
  },
  {
   "cell_type": "code",
   "execution_count": 50,
   "metadata": {
    "collapsed": false
   },
   "outputs": [
    {
     "data": {
      "text/plain": [
       "46"
      ]
     },
     "execution_count": 50,
     "metadata": {},
     "output_type": "execute_result"
    }
   ],
   "source": [
    "ar = np.array(x.tolist())\n",
    "bit_list = []\n",
    "for i in xrange(0, len(ar), Nbits_packet_noec):\n",
    "    b = ar[i:i+Nbits_packet_noec]\n",
    "    if len(b) < Nbits_packet_noec:\n",
    "        b = np.append(b, np.zeros(Nbits_packet_noec - len(b)))\n",
    "    bit_list.append(util.encorrect(b))\n",
    "    \n",
    "N_packets = len(bit_list)\n",
    "N_packets"
   ]
  },
  {
   "cell_type": "code",
   "execution_count": 51,
   "metadata": {
    "collapsed": false
   },
   "outputs": [
    {
     "name": "stdout",
     "output_type": "stream",
     "text": [
      "0 HDA NVidia: CS4206 Analog (hw:0,0)\n",
      "1 HDA NVidia: CS4206 Digital (hw:0,1)\n",
      "2 HDA NVidia: HDMI 0 (hw:0,3)\n",
      "3 HDA NVidia: HDMI 0 (hw:0,7)\n",
      "4 HDA NVidia: HDMI 0 (hw:0,8)\n",
      "5 USB PnP Sound Device: Audio (hw:1,0)\n",
      "6 sysdefault\n",
      "7 front\n",
      "8 surround21\n",
      "9 surround40\n",
      "10 surround51\n",
      "11 surround71\n",
      "12 iec958\n",
      "13 spdif\n",
      "14 hdmi\n",
      "15 pulse\n",
      "16 dmixout\n",
      "17 dmix\n",
      "18 default\n"
     ]
    }
   ],
   "source": [
    "def printDevNumbers(p):\n",
    "    N = p.get_device_count()\n",
    "    for n in range(0,N):\n",
    "        name = p.get_device_info_by_index(n).get('name')\n",
    "        print n, name\n",
    "        \n",
    "p = pyaudio.PyAudio()\n",
    "printDevNumbers(p)\n",
    "p.terminate()"
   ]
  },
  {
   "cell_type": "code",
   "execution_count": 52,
   "metadata": {
    "collapsed": true
   },
   "outputs": [],
   "source": [
    "# CHANGE!!!!\n",
    "dusb_in = 5\n",
    "dusb_out = 5\n",
    "din = 0\n",
    "dout = 0"
   ]
  },
  {
   "cell_type": "code",
   "execution_count": 53,
   "metadata": {
    "collapsed": false
   },
   "outputs": [],
   "source": [
    "if sys.platform == 'darwin':  # Mac\n",
    "    s = serial.Serial(port='/dev/tty.SLAB_USBtoUART')\n",
    "else:                         #windows\n",
    "    s = serial.Serial(port='/dev/ttyUSB0') ##### CHANGE !!!!!!\n",
    "s.setDTR(0)"
   ]
  },
  {
   "cell_type": "code",
   "execution_count": 54,
   "metadata": {
    "collapsed": false
   },
   "outputs": [
    {
     "name": "stdout",
     "output_type": "stream",
     "text": [
      "defined already\n"
     ]
    }
   ],
   "source": [
    "try:\n",
    "    sdr = RtlSdr()\n",
    "except IOError:\n",
    "    print('defined already')"
   ]
  },
  {
   "cell_type": "code",
   "execution_count": 55,
   "metadata": {
    "collapsed": true
   },
   "outputs": [],
   "source": [
    "#sdr.close()"
   ]
  },
  {
   "cell_type": "code",
   "execution_count": 56,
   "metadata": {
    "collapsed": false
   },
   "outputs": [],
   "source": [
    "zero_sample = np.zeros(int(44100 * 0.3))\n",
    "\n",
    "packet = build_packet(bit_list[0])\n",
    "\n",
    "record_len = int(((len(packet) + between_len) / float(fs))*N_packets) + 1\n",
    "if record_len % 2 != 0:\n",
    "    record_len += 1"
   ]
  },
  {
   "cell_type": "code",
   "execution_count": 57,
   "metadata": {
    "collapsed": false
   },
   "outputs": [
    {
     "data": {
      "text/plain": [
       "56"
      ]
     },
     "execution_count": 57,
     "metadata": {},
     "output_type": "execute_result"
    }
   ],
   "source": [
    "record_len"
   ]
  },
  {
   "cell_type": "code",
   "execution_count": 58,
   "metadata": {
    "collapsed": false
   },
   "outputs": [],
   "source": [
    "freq_offset = 83.2e3\n",
    "\n",
    "sample_rate = 240e3\n",
    "center_freq = 443.582e6 - freq_offset\n",
    "#center_freq = 145.442e6 #- freq_offset\n",
    "\n",
    "sdr.sample_rate = sample_rate  \n",
    "sdr.center_freq = center_freq   \n",
    "sdr.gain = 2"
   ]
  },
  {
   "cell_type": "code",
   "execution_count": 59,
   "metadata": {
    "collapsed": false
   },
   "outputs": [],
   "source": [
    "# creates a queue\n",
    "Qout = Queue.Queue()\n",
    "\n",
    "# initialize a serial port \n",
    "s.setDTR(0)\n",
    "# create a pyaudio object\n",
    "p = pyaudio.PyAudio()\n",
    "\n",
    "t_play = threading.Thread(target = play_audio,   args = (Qout,   p, 44100, dusb_out, s ,0.2 ))\n",
    "\n",
    "#Qout.put(sig2)\n",
    "Qout.put(\"KEYON\")\n",
    "Qout.put(zero_sample)\n",
    "\n",
    "for i in range(N_packets):\n",
    "    Qout.put(build_packet(bit_list[i]))\n",
    "    Qout.put(np.zeros(between_len))\n",
    "\n",
    "Qout.put(np.zeros(1024))\n",
    "Qout.put(\"KEYOFF\")\n",
    "Qout.put(zero_sample)\n",
    "Qout.put(\"EOT\")\n",
    "\n",
    "# play audio from Queue \n",
    "t_play.start()\n",
    "\n",
    "samples = []\n",
    "\n",
    "def callback(ss, obj):\n",
    "    samples.append(ss)\n",
    "    #obj.cancel_read_async()\n",
    "\n",
    "N_samples = sample_rate*0.5 # approximately seconds\n",
    "sdr.read_samples_async(limit_time(record_len)(callback), N_samples)   # get samples\n",
    "\n",
    "sdr_samples = np.hstack(samples)\n",
    "    \n",
    "# must wait for the queue to empty before terminating pyaudio\n",
    "while not(Qout.empty()) :\n",
    "    time.sleep(1)\n",
    "    \n",
    "\n",
    "p.terminate()# kill a playing thread"
   ]
  },
  {
   "cell_type": "code",
   "execution_count": null,
   "metadata": {
    "collapsed": false
   },
   "outputs": [],
   "source": [
    "# _ = myspectrogram_hann_ovlp(sdr_samples, 2048, sample_rate, center_freq)"
   ]
  },
  {
   "cell_type": "code",
   "execution_count": null,
   "metadata": {
    "collapsed": false
   },
   "outputs": [],
   "source": [
    "ss = smart_demod(sdr_samples, sample_rate, freq_offset)\n",
    "del sdr_samples"
   ]
  },
  {
   "cell_type": "code",
   "execution_count": null,
   "metadata": {
    "collapsed": false
   },
   "outputs": [],
   "source": [
    "figure()\n",
    "wsize = 512\n",
    "dbf = 20\n",
    "_ = myspectrogram_hann_ovlp(ss, wsize, fs, 0, dbf)"
   ]
  },
  {
   "cell_type": "code",
   "execution_count": null,
   "metadata": {
    "collapsed": false
   },
   "outputs": [],
   "source": [
    "import Levenshtein as leven\n",
    "\n",
    "packets = findPackets(ss)[0]\n",
    "print(len(packets))\n",
    "\n",
    "print('errors')\n",
    "for i in range(len(packets)):\n",
    "    pp = packets[i]\n",
    "    decoded = decodePacket(pp)\n",
    "\n",
    "    ds = ''.join([str(int(x)) for x in decoded])\n",
    "    bs = ''.join([str(int(x)) for x in bit_list[i]])\n",
    "\n",
    "    dist = leven.distance(bs, ds)\n",
    "    print(dist)\n",
    "#     print(100 * float(dist) / Nbits)\n",
    "    print(leven.editops(bs, ds)[:10])"
   ]
  },
  {
   "cell_type": "code",
   "execution_count": null,
   "metadata": {
    "collapsed": false
   },
   "outputs": [],
   "source": [
    "decodes = map(lambda p: util.correct(decodePacket(p)), packets)"
   ]
  },
  {
   "cell_type": "code",
   "execution_count": null,
   "metadata": {
    "collapsed": false
   },
   "outputs": [],
   "source": [
    "new_x = np.hstack(decodes)\n",
    "new_x_bits = bitarray.bitarray(new_x.tolist())"
   ]
  },
  {
   "cell_type": "code",
   "execution_count": null,
   "metadata": {
    "collapsed": false
   },
   "outputs": [],
   "source": [
    "len(new_x_bits)"
   ]
  },
  {
   "cell_type": "code",
   "execution_count": null,
   "metadata": {
    "collapsed": false
   },
   "outputs": [],
   "source": [
    "imm2 = decompressanddecode(new_x_bits)"
   ]
  },
  {
   "cell_type": "code",
   "execution_count": null,
   "metadata": {
    "collapsed": true
   },
   "outputs": [],
   "source": [
    "ims(np.clip(imm2, 0, 255)/256.0)"
   ]
  },
  {
   "cell_type": "code",
   "execution_count": null,
   "metadata": {
    "collapsed": true
   },
   "outputs": [],
   "source": []
  }
 ],
 "metadata": {
  "kernelspec": {
   "display_name": "Python 2",
   "language": "python",
   "name": "python2"
  },
  "language_info": {
   "codemirror_mode": {
    "name": "ipython",
    "version": 2
   },
   "file_extension": ".py",
   "mimetype": "text/x-python",
   "name": "python",
   "nbconvert_exporter": "python",
   "pygments_lexer": "ipython2",
   "version": "2.7.9"
  }
 },
 "nbformat": 4,
 "nbformat_minor": 0
}
