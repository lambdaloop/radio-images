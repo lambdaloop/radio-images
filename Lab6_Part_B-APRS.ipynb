{
 "cells": [
  {
   "cell_type": "markdown",
   "metadata": {},
   "source": [
    "# Lab 6 Part B: AX.25 and APRS\n",
    "## Please read the text in this lab carefully, there's lots of important detailed information everywhere. \n",
    "\n",
    "In this part of the lab we are going to experiment with Digital modulation and communication. Network Communication systems have layered architechture. The bottom layer is the physical which implements the modulation. Here we will use your [AFSK](http://en.wikipedia.org/wiki/Frequency-shift_keying) modules that you implemented in Lab 6. In addition, we will leverage [AX.25](http://www.tapr.org/pub_ax25.html), which is an amateur-radio data-link layer protocol. [AX.25](http://www.tapr.org/pub_ax25.html) is a packet based protocol that will help us transmit data using packets. It implements basic synchronization, addressing, data encapsulation and some error detection.  In the ham world, an implementation of AFSK and [AX.25](http://www.tapr.org/pub_ax25.html)  together is also called a [TNC ( Terminal Node Controller )](http://en.wikipedia.org/wiki/Terminal_node_controller). In the past TNC's were separate boxes that hams used to attach to their radios to communicate with packet-based-communication. Today, it is easy to implement TNC's in software using the computer's soundcard.... as you will see here! \n",
    "\n",
    "\n"
   ]
  },
  {
   "cell_type": "code",
   "execution_count": 1,
   "metadata": {
    "collapsed": false
   },
   "outputs": [
    {
     "name": "stdout",
     "output_type": "stream",
     "text": [
      "Using matplotlib backend: Qt4Agg\n",
      "Populating the interactive namespace from numpy and matplotlib\n"
     ]
    }
   ],
   "source": [
    "%pylab\n",
    "# Import functions and libraries\n",
    "import numpy as np\n",
    "import matplotlib.pyplot as plt\n",
    "import pyaudio\n",
    "import Queue\n",
    "import threading,time\n",
    "import sys\n",
    "\n",
    "from numpy import pi\n",
    "from numpy import sin\n",
    "from numpy import zeros\n",
    "from numpy import r_\n",
    "from numpy import ones\n",
    "from scipy import signal\n",
    "from scipy import integrate\n",
    "from __future__ import division\n",
    "\n",
    "import threading,time\n",
    "import multiprocessing\n",
    "\n",
    "from rtlsdr import RtlSdr\n",
    "from numpy import mean\n",
    "from numpy import power\n",
    "from numpy.fft import fft\n",
    "from numpy.fft import fftshift\n",
    "from numpy.fft import ifft\n",
    "from numpy.fft import ifftshift\n",
    "import bitarray\n",
    "from  scipy.io.wavfile import read as wavread\n",
    "import serial\n",
    "\n",
    "%matplotlib inline"
   ]
  },
  {
   "cell_type": "markdown",
   "metadata": {},
   "source": [
    "For the following tasks you will need the functions:\n",
    "\n",
    "`sg_plot`  included in lab7.py\n",
    "\n",
    "`myspectrogram_hann_ovlp` included in lab7.py\n",
    "\n",
    "`play_audio` included in lab7.py\n",
    "\n",
    "`record_audio`  included in lab7.py\n",
    "\n",
    "`printDevNumbers`  included in lab7.py\n",
    "\n",
    "`text2Morse` (to Identify yourself before transmission)\n",
    "\n",
    "`afsk1200` (from the previous lab)\n",
    "\n",
    "`nc_afskDemod` (from the previous lab)"
   ]
  },
  {
   "cell_type": "code",
   "execution_count": 2,
   "metadata": {
    "collapsed": true
   },
   "outputs": [],
   "source": [
    "# Plot an image of the spectrogram y, with the axis labeled with time tl,\n",
    "# and frequency fl\n",
    "#\n",
    "# t_range -- time axis label, nt samples\n",
    "# f_range -- frequency axis label, nf samples\n",
    "# y -- spectrogram, nf by nt array\n",
    "# dbf -- Dynamic range of the spect\n",
    "\n",
    "def sg_plot( t_range, f_range, y, dbf = 60) :\n",
    "    eps = 1e-3\n",
    "    \n",
    "    # find maximum\n",
    "    y_max = abs(y).max()\n",
    "    \n",
    "    # compute 20*log magnitude, scaled to the max\n",
    "    y_log = 20.0 * np.log10( abs( y ) / y_max + eps )\n",
    "    \n",
    "    fig=figure(figsize=(15,6))\n",
    "    \n",
    "    plt.imshow( np.flipud( 64.0*(y_log + dbf)/dbf ), extent= t_range  + f_range ,cmap=plt.cm.gray, aspect='auto')\n",
    "    plt.xlabel('Time, s')\n",
    "    plt.ylabel('Frequency, Hz')\n",
    "    plt.tight_layout()\n",
    "\n",
    "\n",
    "def myspectrogram_hann_ovlp(x, m, fs, fc,dbf = 60):\n",
    "    # Plot the spectrogram of x.\n",
    "    # First take the original signal x and split it into blocks of length m\n",
    "    # This corresponds to using a rectangular window %\n",
    "    \n",
    "    \n",
    "    isreal_bool = isreal(x).all()\n",
    "    \n",
    "    # pad x up to a multiple of m \n",
    "    lx = len(x);\n",
    "    nt = (lx + m - 1) // m\n",
    "    x = append(x,zeros(-lx+nt*m))\n",
    "    x = x.reshape((m/2,nt*2), order='F')\n",
    "    x = concatenate((x,x),axis=0)\n",
    "    x = x.reshape((m*nt*2,1),order='F')\n",
    "    x = x[r_[m//2:len(x),ones(m//2)*(len(x)-1)].astype(int)].reshape((m,nt*2),order='F')\n",
    "    \n",
    "    \n",
    "    xmw = x * hanning(m)[:,None];\n",
    "    \n",
    "    \n",
    "    # frequency index\n",
    "    t_range = [0.0, lx / fs]\n",
    "    \n",
    "    if isreal_bool:\n",
    "        f_range = [ fc, fs / 2.0 + fc]\n",
    "        xmf = np.fft.fft(xmw,len(xmw),axis=0)\n",
    "        sg_plot(t_range, f_range, xmf[0:m/2,:],dbf=dbf)\n",
    "        print 1\n",
    "    else:\n",
    "        f_range = [-fs / 2.0 + fc, fs / 2.0 + fc]\n",
    "        xmf = np.fft.fftshift( np.fft.fft( xmw ,len(xmw),axis=0), axes=0 )\n",
    "        sg_plot(t_range, f_range, xmf,dbf = dbf)\n",
    "    \n",
    "    return t_range, f_range, xmf\n",
    "\n",
    "def play_audio( Q, p, fs , dev, ser=\"\", keydelay=0.200):\n",
    "    # play_audio plays audio with sampling rate = fs\n",
    "    # Q - A queue object from which to play\n",
    "    # p   - pyAudio object\n",
    "    # fs  - sampling rate\n",
    "    # dev - device number\n",
    "    # ser - pyserial device to key the radio\n",
    "    # keydelay - delay after keying the radio\n",
    "    \n",
    "    # Example:\n",
    "    # fs = 44100\n",
    "    # p = pyaudio.PyAudio() #instantiate PyAudio\n",
    "    # Q = Queue.queue()\n",
    "    # Q.put(data)\n",
    "    # Q.put(\"EOT\") # when function gets EOT it will quit\n",
    "    # play_audio( Q, p, fs,1 ) # play audio\n",
    "    # p.terminate() # terminate pyAudio\n",
    "    \n",
    "    # open output stream\n",
    "    ostream = p.open(format=pyaudio.paFloat32, channels=1, rate=int(fs),output=True,output_device_index=dev)\n",
    "    # play audio\n",
    "    while (1):\n",
    "        data = Q.get()\n",
    "        if data==\"EOT\"  :\n",
    "            break\n",
    "        elif (data==\"KEYOFF\"  and ser!=\"\"):\n",
    "            time.sleep(keydelay)\n",
    "            ser.setDTR(0)\n",
    "            #print(\"keyoff\\n\")\n",
    "        elif (data==\"KEYON\" and ser!=\"\"):\n",
    "            ser.setDTR(1)  # key PTT\n",
    "            #print(\"keyon\\n\")\n",
    "            time.sleep(keydelay) # wait 200ms (default) to let the power amp to ramp up\n",
    "            \n",
    "        else:\n",
    "            try:\n",
    "                ostream.write( data.astype(np.float32).tostring() )\n",
    "            except:\n",
    "                print(\"Exception\")\n",
    "                break\n",
    "            \n",
    "def record_audio( queue, p, fs ,dev,chunk=1024):\n",
    "    # record_audio records audio with sampling rate = fs\n",
    "    # queue - output data queue\n",
    "    # p     - pyAudio object\n",
    "    # fs    - sampling rate\n",
    "    # dev   - device number \n",
    "    # chunk - chunks of samples at a time default 1024\n",
    "    #\n",
    "    # Example:\n",
    "    # fs = 44100\n",
    "    # Q = Queue.queue()\n",
    "    # p = pyaudio.PyAudio() #instantiate PyAudio\n",
    "    # record_audio( Q, p, fs, 1) # \n",
    "    # p.terminate() # terminate pyAudio\n",
    "    \n",
    "   \n",
    "    istream = p.open(format=pyaudio.paFloat32, channels=1, rate=int(fs),input=True,input_device_index=dev,frames_per_buffer=chunk)\n",
    "\n",
    "    # record audio in chunks and append to frames\n",
    "    frames = [];\n",
    "    while (1):\n",
    "        try:  # when the pyaudio object is distroyed stops\n",
    "            data_str = istream.read(chunk) # read a chunk of data\n",
    "        except:\n",
    "            break\n",
    "        data_flt = np.fromstring( data_str, 'float32' ) # convert string to float\n",
    "        queue.put( data_flt ) # append to list\n",
    "\n",
    "def text2Morse(text,fc,fs,dt):\n",
    "    CODE = {'A': '.-',     'B': '-...',   'C': '-.-.', \n",
    "        'D': '-..',    'E': '.',      'F': '..-.',\n",
    "        'G': '--.',    'H': '....',   'I': '..',\n",
    "        'J': '.---',   'K': '-.-',    'L': '.-..',\n",
    "        'M': '--',     'N': '-.',     'O': '---',\n",
    "        'P': '.--.',   'Q': '--.-',   'R': '.-.',\n",
    "     \t'S': '...',    'T': '-',      'U': '..-',\n",
    "        'V': '...-',   'W': '.--',    'X': '-..-',\n",
    "        'Y': '-.--',   'Z': '--..',\n",
    "        \n",
    "        '0': '-----',  '1': '.----',  '2': '..---',\n",
    "        '3': '...--',  '4': '....-',  '5': '.....',\n",
    "        '6': '-....',  '7': '--...',  '8': '---..',\n",
    "        '9': '----.',\n",
    "\n",
    "        ' ': ' ', \"'\": '.----.', '(': '-.--.-',  ')': '-.--.-',\n",
    "        ',': '--..--', '-': '-....-', '.': '.-.-.-',\n",
    "        '/': '-..-.',   ':': '---...', ';': '-.-.-.',\n",
    "        '?': '..--..', '_': '..--.-'\n",
    "        }\n",
    "    \n",
    "    Ndot= 1.0*fs*dt\n",
    "    Ndah = 3*Ndot\n",
    "    \n",
    "    sdot = sin(2*pi*fc*r_[0.0:Ndot]/fs)\n",
    "    sdah = sin(2*pi*fc*r_[0.0:Ndah]/fs)\n",
    "    \n",
    "    # convert to dit dah\n",
    "    mrs = \"\"\n",
    "    for char in text:\n",
    "        mrs = mrs + CODE[char.upper()] + \"*\"\n",
    "    \n",
    "    sig = zeros(1)\n",
    "    for char in mrs:\n",
    "        if char == \" \":\n",
    "            sig = concatenate((sig,zeros(Ndot*7)))\n",
    "        if char == \"*\":\n",
    "            sig = concatenate((sig,zeros(Ndot*3)))\n",
    "        if char == \".\":\n",
    "            sig = concatenate((sig,sdot,zeros(Ndot)))\n",
    "        if char == \"-\":\n",
    "            sig = concatenate((sig,sdah,zeros(Ndot)))\n",
    "    return sig\n",
    "            \n",
    "\n",
    "def printDevNumbers(p):\n",
    "    N = p.get_device_count()\n",
    "    for n in range(0,N):\n",
    "        name = p.get_device_info_by_index(n).get('name')\n",
    "        print n, name\n",
    "        \n"
   ]
  },
  {
   "cell_type": "markdown",
   "metadata": {},
   "source": [
    "Copy and paste your afsk1200 and nc_afskDemod functions here:"
   ]
  },
  {
   "cell_type": "code",
   "execution_count": 3,
   "metadata": {
    "collapsed": false
   },
   "outputs": [],
   "source": [
    "# copy and paste your own functions here. \n",
    "\n",
    "def afsk1200(bits):\n",
    "    #the function will take a bitarray of bits and will output an AFSK1200 modulated signal of them, sampled at 44100Hz\n",
    "    fs = 44100*4\n",
    "    baud = 1200\n",
    "    fc = 1700\n",
    "    delf = 500\n",
    "    \n",
    "    bits = np.array(bits.tolist())\n",
    "    \n",
    "    #print bits < 1\n",
    "    \n",
    "    bits = bits.astype(int)\n",
    "    \n",
    "    np.place(bits, bits < 1, [-1])\n",
    "    \n",
    "    #print bits\n",
    "    \n",
    "    #width, height = figaspect(0.2)\n",
    "    #fig = figure(figsize=(width,height))\n",
    "\n",
    "    #plot(np.r_[0:bits.size], bits)\n",
    "\n",
    "    #your code here\n",
    "    sperb = fs/baud\n",
    "    \n",
    "    t = np.r_[0:bits.size*sperb]\n",
    "    integ = integrate.cumtrapz(np.repeat(bits, sperb), initial=0)\n",
    "    \n",
    "    #fig = figure(figsize=(width,height))\n",
    "    #plot(np.r_[0:integ.size], integ)\n",
    "    \n",
    "    ph = t*2*pi*fc/fs + integ*2*pi*delf/fs\n",
    "    \n",
    "    sig = real(exp(1j*ph[::4]))\n",
    "    \n",
    "    return sig\n",
    "        \n",
    "              \n",
    "\n",
    "\n",
    "def nc_afskDemod(sig, TBW=2.0, N=74):\n",
    "    #  non-coherent demodulation of afsk1200\n",
    "    # function returns the NRZI (without rectifying it)\n",
    "    \n",
    "    # your code here\n",
    "    \n",
    "    # Generate filters\n",
    "    \n",
    "    fs = 44100\n",
    "    TBW = 2\n",
    "    N = 147\n",
    "    BW = 1200/fs\n",
    "    lowpass = signal.firwin(N, BW)\n",
    "    t = np.r_[0:N]\n",
    "    h_space = exp(1j*t*2*pi*2200/fs)*lowpass\n",
    "    h_mark = exp(1j*t*2*pi*1200/fs)*lowpass\n",
    "    \n",
    "    sig_space = signal.fftconvolve(sig, h_space)\n",
    "    sig_mark = signal.fftconvolve(sig, h_mark)\n",
    "    \n",
    "    #NRZI = np.absolute(sig_mark) - np.absolute(sig_space)\n",
    "    \n",
    "    #return NRZI > -0.02\n",
    "   \n",
    "    mark = np.absolute(sig_mark)\n",
    "    space = np.absolute(sig_space)\n",
    "\n",
    "    NRZI = (mark-space)\n",
    "    return NRZI\n",
    "\n"
   ]
  },
  {
   "cell_type": "markdown",
   "metadata": {},
   "source": [
    "Now, similarly to before, find the audio interface numbers. And intitialize the variables:\n",
    "dusb_in, dusb_out, din, dout \n",
    "\n"
   ]
  },
  {
   "cell_type": "code",
   "execution_count": 38,
   "metadata": {
    "collapsed": false
   },
   "outputs": [
    {
     "name": "stdout",
     "output_type": "stream",
     "text": [
      "0 Microsoft Sound Mapper - Input\n",
      "1 Microphone (USB PnP Sound Devic\n",
      "2 Microphone (VIA High Definition\n",
      "3 Stereo Mix (VIA High Definition\n",
      "4 Microsoft Sound Mapper - Output\n",
      "5 Speakers (USB PnP Sound Device)\n",
      "6 Speakers (VIA High Definition A\n",
      "7 SPDIF Interface (TX0) (VIA High\n",
      "8 Primary Sound Capture Driver\n",
      "9 Microphone (USB PnP Sound Device)\n",
      "10 Microphone (VIA High Definition Audio)\n",
      "11 Stereo Mix (VIA High Definition Audio)\n",
      "12 Primary Sound Driver\n",
      "13 Speakers (USB PnP Sound Device)\n",
      "14 SPDIF Interface (TX0) (VIA High Definition Audio)\n",
      "15 Speakers (VIA High Definition Audio)\n",
      "16 SPDIF Interface (TX0) (VIA High Definition Audio)\n",
      "17 Speakers (VIA High Definition Audio)\n",
      "18 Speakers (USB PnP Sound Device)\n",
      "19 Microphone (VIA High Definition Audio)\n",
      "20 Microphone (USB PnP Sound Device)\n",
      "21 Stereo Mix (VIA High Definition Audio)\n",
      "22 SPDIF Out (HD Audio digital out)\n",
      "23 Speakers (VIA HD Audio Output)\n",
      "24 Microphone (VIA HD Audio Microphone)\n",
      "25 Stereo Mix (VIA HD Audio Stereo Mixer)\n",
      "26 Speakers (USB PnP Sound Device)\n",
      "27 Microphone (USB PnP Sound Device)\n"
     ]
    }
   ],
   "source": [
    "        \n",
    "p = pyaudio.PyAudio()\n",
    "printDevNumbers(p)\n",
    "p.terminate()"
   ]
  },
  {
   "cell_type": "code",
   "execution_count": 5,
   "metadata": {
    "collapsed": true
   },
   "outputs": [],
   "source": [
    "# CHANGE!!!!\n",
    "dusb_in = 1\n",
    "dusb_out = 5\n",
    "din = 2\n",
    "dout = 7"
   ]
  },
  {
   "cell_type": "markdown",
   "metadata": {},
   "source": [
    "Initialize serial port"
   ]
  },
  {
   "cell_type": "code",
   "execution_count": 40,
   "metadata": {
    "collapsed": true
   },
   "outputs": [],
   "source": [
    "if sys.platform == 'darwin':  # Mac\n",
    "    s = serial.Serial(port='/dev/tty.SLAB_USBtoUART')\n",
    "else:                         #windows\n",
    "    s = serial.Serial(port='COM7') # CHANGE !!!!!!"
   ]
  },
  {
   "cell_type": "markdown",
   "metadata": {},
   "source": [
    "## AX.25 (from: http://n1vg.net/packet/ and http://www.tapr.org/pub_ax25.html)\n",
    "\n",
    "Before we go to demodulate AFSK1200 we will construct data in the form of AX.25 packets. The structure of the AX.25 packet, and in particular the flag that starts and ends a frame will help us sync to the beginning of the packet for accurate demodulation. \n",
    "The AX.25 protocol uses several measures for standartization and to improve detection and demodulation of packets. We will go over them now:\n",
    "\n",
    "#### NRZI (non-return to zero inverted)\n",
    "AX.25 does not encode  NRZ '1's and '0's in the usual mark and space frequencies. Instead it uses a scheme called NRZI, or non-return to zero inverted.  NRZI encodes a '0' bit as a change from mark to space, or space to mark. A '1' is encoded as no change.  To encode an AX.25 packet we need to convert our bit sequence to an NRZI one.  For example, an original bit stream of 11011000 should be first converted to 11000101 (initial state is 1). \n",
    "\n",
    "#### Bit Stuffing\n",
    "Because a '1' is represented by no change, sending a long string of '1's would result in a constant signal. This may result in a receiver drifting out of sync with the transmitter. In order to circumvent this, the encoder performs bit stuffing before transmition by placing   a bit '0' after every fifth '1' in the the stream. The decoder does bit unstuffing and removes the extra '0's. Bit stuffing is performed before converting to NRZI.\n",
    "\n",
    "#### Bit Order\n",
    "Bytes are sent least-significant-bit first\n",
    "\n",
    "#### Flag\n",
    "A Flag field starts and ends each packet. It is a unique sequence and is used to detect the beginning and the end of packets. The flag consists of the bit sequence: 0x7E or: 01111110. The flag is an exception in which no bit stuffing is performed. Therefore it is the only place in the packet in which 6 consequitive '1's appear. In NRZI it will translate to a time interval of 7 bits between zero-corssing of the non-coerent detector output.  This means that we can use the flag sequence to uniquly detect a packet. \n",
    "\n",
    "#### Frame Structure\n",
    "The Ax.25 protocol defines several type of frames. We will use the Un-numbered Information (UI) frame as defined in the protocol. UI frame is used for connectionless mode, where AX.25 frmaes are transmitted without expecting any response, and reception is not guaranteed. \n",
    "The UI frame that is used in the [Automatic Positioning and Reporting System (APRS)](http://en.wikipedia.org/wiki/Automatic_Packet_Reporting_System) protocol and has 9 fields of data:\n",
    "\n",
    "| flag | Dest. Addr. | Src. Addr. |Digipeter Addresses | Control field | ID | Information Field | FCS | Flag |\n",
    "|----:|-----------:|----------:|:------------------:|:-------------:|:--:|:-----------------:|:---:|:----:|\n",
    "|1     |     7       |     7      |    56              |       1       |  1 |     256           |  2  |  1   |\n",
    "\n",
    "Of importance are the Source address, which are your call sign, the Information Field which is the packet payload, the FCS which is a error checksum.\n",
    "\n",
    "#### FCS Field\n",
    "The FCS field is always the last two bytes in the packet. They are a checksum that can be used to determine the integrity of the packet. \n",
    "\n",
    "## APRS (information from: [Here](http://www.aprs.org/doc/APRS101.PDF) and [here](http://www.aprs.org/iss-aprs/issicons.html))\n",
    "APRS is a ham packet-based system for real-time tactical digital communication for local area. APRS uses the AX.25 protocol in its core. Using APRS you can report position, status, and send messages that other hams or stations with APRS capability will able to decode, interpret and display the information. APRS also provides means of packet repeating (Digipeters) alongside with internet terminal nodes. Some radio manufacturers saw the potential and included APRS in some of their products as well. Go to this website: https://aprs.fi  to see the APRS activity in the surrounding area that is aggregated from the internet nodes. You will see fixed stations, weather stations as well as mobile operators in your area. We will use the website to confirm that our transmitted packets were received. \n",
    "\n",
    "### Frequencies:\n",
    "The national APRS frequency is 144.39MHz (ch-117 on your radio). There is much activity and infrastracture transmitting and listenning to that frequency. The international space station also has an APRS digipeter on board operating at 145.825MHZ (ch-50 on your radio). You can also use AX.25 on any of the digital or experimental channels in the bandplan -- though you will have to coordinate if you want anybody to hear you! \n",
    "\n",
    "### APRS Destination, source, digipeter address, control, ID and FCS packet fields\n",
    "For APRS packets, the Destination address field is not used for routing. Instead it represents the version of the APRS software you are using. In order to be decoded by receivers in the APRS network it must start with the letters AP. We will use APDSP just for fun. \n",
    "The source address is your call sign. The digipeter addresses require some explenation but the fields 'WIDE1-1,WIDE2-1' will result in the packet being digipeted a maximum of 2 hops. In dense population areas like the bay area 'WIDE1-1' is often enough to get your packet to its destination. The Control and ID fields are fixed to \"\\x03\" and \"\\xF0\" respectively. The FCS field is the checksum field as defined by AX.25. The flag fields are the usual 01111110.\n",
    "\n",
    "We have prepared for you code that generates valid bitstream of AX.25 packets from the appropriate fields as well as decode the fields from a bitstream. The code is a modification of code oroginally written by: Greg Albrecht W2GMD. You will have to download the code from the class website\n"
   ]
  },
  {
   "cell_type": "markdown",
   "metadata": {},
   "source": [
    " \n",
    "### The APRS informatrion field\n",
    "The information field of the packet are 256 Bytes payload that contain the information you want to send. We will go over some of the information that is needed to construct valid and useful information field messeges. There are several digipeters in the bay area that have internet terminal nodes. These implement several \"fun\" and useful services. For example, you can send a position report that would show up on a google map. You can also send a short EMAIL by sending an APRS packet. \n",
    "\n",
    "How a node or a client interprets your packet depends on the information field structure. There are three types of packets: Position, Status and Messages\n",
    "#### Messages\n",
    "\n",
    "Just begin your packet line with a Colon and a 9 character TOASDDRESS, another colon and then text. \n",
    "The TOADDRESS must have 9 characters and should be filled with spaces if it is smaller. \n",
    "\n",
    "Examples of messages:\n",
    "\n",
    "* :ALL------:Everyone will capture this 64 byte message text.\n",
    "* :KK6MRI---:This message will only show on Miki's APRS enabled Yaezu VX-8dr radio screen\n",
    "* :EMAIL----:mlustig@eecs.berkeley.edu I sent you an email Miki through an OpenAPRS node!\n",
    "\n",
    "The \"-----\" are blank spaces to fill the space to 9 characters.  \n",
    "\n",
    "#### Position\n",
    "You can report your position to people on the APRS system. If your report is picked up by a node it will show up on http://www.aprs.fi. The basic format of a position packet is:\n",
    "\n",
    "| ! or = symbols | Lattitude 8 chars | / | Longitude 9 chars| icon 1 char| Comment max 43 chars |\n",
    "|---------------|-------------------|---|------------------|------------|----------------------|\n",
    "| =             | 3752.50N|        /| 12215.43W|            K|Shows a school symbol on Cory Hall position|\n",
    "| =             |3752.45N |/|12215.98W|[|Shows a person walking on Oxford and Hearst|\n",
    "| =             |2759.16N |/|08655.30E|[|I'm on the top of the world! (Mt. Everest)|\n",
    "\n",
    "The latitude format is expressed as a fixed 8-character field, in degrees and decimal minutes (to two decimal places), followed by a letter N for north and S for south. Latitude minutes are expressed as whole minutes and hundredths of a minute, separated by a decimal point. Longitude is expressed as a fixed 9-character field, in degrees and decimal minutes (to two decimal places), followed by the letter E for east or W for west. Longitude degrees are in the range 000 to 180. Longitude minutes are expressed as whole minutes and hundredths of a minute, separated by a decimal point.\n",
    "\n",
    "In generic format:\n",
    "\n",
    "* Latitude is expressed as: ddmm.hhN (i.e. degrees, minutes and hundredths of a minute north)\n",
    "* Longitude is expressed as: dddmm.hhW (i.e. degrees, minutes and hundredths of a minute west)\n",
    "\n",
    "For example Cory Hall is at N37° 52.5022', W122° 15.4395'. So the position is encoded as:\n",
    "3752.50N/12215.43W\n",
    "\n",
    "You can go to http://www.gpsvisualizer.com/geocode to find the coordinates of an address. Note: use the degree, minutes representation, not the decimal one. \n",
    "\n",
    "a 1 character icon is provided after the coordinates. This will show an icon on the http://aprs.fi maps. Here are some useful ones:\n",
    "\n",
    "* \\- House with a VHF vertical\n",
    "*  < Motorcycle\n",
    "* \\> Car\n",
    "* Y Sailboat\n",
    "* b Bike\n",
    "* [ Jogger, walker, runner\n",
    "* X Helo\n",
    "* K School\n",
    "\n",
    "Examples:\n",
    "\n",
    "a school symbol \n",
    "* =3752.50N/12215.43WKShows a school symbol on Cory Hall position.\n",
    "* =3752.45N/12215.98W[Shows a person walking on Oxford and Hearst\n",
    "* =3752.❏❏N/12215.❏❏-Shows a house symbol somewhere in Berkeley.\n",
    "\n",
    "#### Status\n",
    "A status packet starts with '>' character. It wil show on APRS equipped radios. \n",
    "\n",
    "Examples:\n",
    "\n",
    "*  \\>I like radios\n",
    "*  \\>Monitoring 146.430MHz PL 66\n",
    "*  \\>On My way home\n",
    "\n"
   ]
  },
  {
   "cell_type": "markdown",
   "metadata": {},
   "source": [
    "## Your first APRS packet\n",
    "In the following section we will construct a valid (bitstuffed) bitstream from the different APRS packet fields. We will convert to an NRZI representation and modulate to generate a valid AFSK1200 APRS Packet. We will transmit it over the radio and look at http://aprs.fi to see if it was received by a node. \n",
    "\n",
    "### Bitstream from APRS fields\n",
    "\n",
    "The following code shows you how to construct a message packet that will tell a digipeter to send you an email. Make sure you fill the correct information in the fields. The bitstream will already be bitsuffed with zeroes. \n"
   ]
  },
  {
   "cell_type": "code",
   "execution_count": 4,
   "metadata": {
    "collapsed": false
   },
   "outputs": [
    {
     "name": "stdout",
     "output_type": "stream",
     "text": [
      "bitarray('011111100100000100000101000100010110010100000101000000100000011001101001011010010011011001100101000101010100000100000110011101010100100100010001010100010100011000000010010001100111010101001001000100010101000100100110000000101100011011000000000011110101110011001010101100101100101011100010001010101010001000000100000001000000010001011100000000100010110000001100000111001110110001101100000111001110110001101100000111001010110000000100001010100001011010010110110011100000010010010110110011100000010010000110000001000010111010100110000111100010111000000100101101101010011011001110110011101000011011100110101001100000010001100110010011101111011010110110000001001011011010011110000001000100111010000110001001101001011011110110101100101101110101111110')\n"
     ]
    }
   ],
   "source": [
    "import ax25\n",
    "\n",
    "callsign = \"KK6STA\"\n",
    "Digi =b'WIDE1-1,WIDE2-1'\n",
    "dest = \"APDSP\"\n",
    "\n",
    "# Uncomment to Send Email\n",
    "#info = \":EMAIL    :openg@berkeley.edu What a great lab!\"\n",
    "\n",
    "# Uncomment to Send an SMS message to a phone number (update the number!)\n",
    "info = \":SMSGTE   :@4087687685 This is a text message from my radio\"\n",
    "\n",
    "#uncomment to show yourself on mt everest\n",
    "#info = \"=2759.16N/08655.30E[I'm on the top of the world\"\n",
    "\n",
    "#uncomment to send to everyone on the APRS system near you\n",
    "#info = \":ALL      : CQCQCQ I would like to talk to you!\"\n",
    "\n",
    "\n",
    "# uncomment to report position\n",
    "#info = \"=3752.50N/12215.43WlIm using a laptop in Cory Hall!\"\n",
    "\n",
    "# uncomment to send a status message\n",
    "#info = \">I like radios\"\n",
    "\n",
    "\n",
    "packet = ax25.UI(\n",
    "\t\tdestination=dest,\n",
    "\t\tsource=callsign, \n",
    "\t\tinfo=info,\n",
    "\t\tdigipeaters=Digi.split(b','),\n",
    "        )\n",
    "print(packet.unparse())"
   ]
  },
  {
   "cell_type": "markdown",
   "metadata": {},
   "source": [
    "### Converting a stream of bits to NRZI (zeros represent by change of 0-1 or 1-0 and ones are no change)\n",
    "Recall that AX.25 packets are sent with NRZI encoding in which a '0' is a change and a '1' is no change. \n",
    "\n",
    "* The following function `NRZI = NRZ2NRZI(bits)`,  takes a standard bitarray stream and converts it to a bitarray stream representing '0's as change and '1's as unchanged. For example, an input of 0000111100 will result in 0101111101. This assume an initial state of '1'. \n"
   ]
  },
  {
   "cell_type": "code",
   "execution_count": 5,
   "metadata": {
    "collapsed": false
   },
   "outputs": [],
   "source": [
    "def NRZ2NRZI(NRZ):\n",
    "    NRZI = NRZ.copy() \n",
    "    current = True\n",
    "    for n in range(0,len(NRZ)):\n",
    "        if NRZ[n] :\n",
    "            NRZI[n] = current\n",
    "        else:\n",
    "            NRZI[n] = not(current)\n",
    "        current = NRZI[n]\n",
    "    return NRZI\n"
   ]
  },
  {
   "cell_type": "markdown",
   "metadata": {},
   "source": [
    "### Constructing and Transmitting an APRS AX.25 Packet. \n",
    "\n",
    "\n",
    "* Construct an AFSK1200 signal out of the APRS packet. \n",
    "* Play the audio on your computer speaker. It will sound like an old modem (which is what it is!)\n",
    "* Plot its spectrogram. You should be able to see the bits. \n",
    "* It is recommended to **add a stream of 160 zero-bits before the message**. This will translate into alternating between Mark and Space and help any receiver to lock on the bit rate and sync to the package\n"
   ]
  },
  {
   "cell_type": "code",
   "execution_count": 14,
   "metadata": {
    "collapsed": false
   },
   "outputs": [],
   "source": [
    "def play_audio_direct( data, p, fs):\n",
    "    # data - audio data array\n",
    "    # p    - pyAudio object\n",
    "    # fs    - sampling rate\n",
    "    \n",
    "    # open output stream\n",
    "    ostream = p.open(format=pyaudio.paFloat32, channels=1, rate=fs,output=True)\n",
    "    # play audio\n",
    "    ostream.write( data.astype(np.float32).tostring() )"
   ]
  },
  {
   "cell_type": "code",
   "execution_count": 30,
   "metadata": {
    "collapsed": false
   },
   "outputs": [
    {
     "data": {
      "image/png": "[encoded data removed]",
      "text/plain": [
       "<matplotlib.figure.Figure at 0x16a940f0>"
      ]
     },
     "metadata": {},
     "output_type": "display_data"
    }
   ],
   "source": [
    "# construct message\n",
    "msg = afsk1200(NRZ2NRZI(bitarray.bitarray(zeros(160).tolist())+packet.unparse()))\n",
    "\n",
    "\n",
    "\n",
    "# display spectrogram\n",
    "fig = figure(figsize(16,4))\n",
    "plot(linspace(0,22050/4,20000/4),abs(np.fft.fft(msg,n=40000))[:20000/4])\n",
    "\n",
    "xlabel('Hz')\n",
    "title('Spectrum of AFSK1200')\n",
    "\n",
    "\n",
    "# play message on your speaker\n",
    "# instantiate PyAudio\n",
    "p = pyaudio.PyAudio()\n",
    "# play sound\n",
    "play_audio_direct( msg, p, 44100 )\n",
    "\n",
    "# terminate pyAudio\n",
    "p.terminate()\n"
   ]
  },
  {
   "cell_type": "markdown",
   "metadata": {},
   "source": [
    "* Tune your radio to the APRS national frequency: 144.39MHz or Channel 117 on your radio. \n",
    "* Send the APRS packet through your radio. As always it is better to be outside in a high place. If you are near Cory Hall you should be OK, we have an APRS internet gateway in Cory.\n",
    "* Sometimes it is useful to send the packet twice, just to make sure it goes through. \n",
    "* Be very carefull that your radio is operating appropriately, i.e., not getting stuck in transmit etc. We do not wish to interfere with the APRS network!\n",
    "\n"
   ]
  },
  {
   "cell_type": "code",
   "execution_count": 43,
   "metadata": {
    "collapsed": false
   },
   "outputs": [],
   "source": [
    "p = pyaudio.PyAudio()\n",
    "\n",
    "Qout = Queue.Queue()\n",
    "\n",
    "\n",
    "Qout.put(\"KEYON\")\n",
    "Qout.put(msg/1.5)\n",
    "Qout.put(\"KEYOFF\")\n",
    "Qout.put(\"EOT\")\n",
    "\n",
    "play_audio(Qout,   p, 44100, dusb_out, s,0.3)\n",
    "\n",
    "\n",
    "time.sleep(1)\n",
    "p.terminate()\n"
   ]
  },
  {
   "cell_type": "markdown",
   "metadata": {},
   "source": [
    "* Did you get an email? SMS? If so, try sending a position report and check in https://aprs.fi. You can also search for your callsign, and then press the raw-packets link. It will show you all the packets received from you in the last 48 hours."
   ]
  },
  {
   "cell_type": "markdown",
   "metadata": {},
   "source": [
    "## Decodeing AX.25 and APRS Packets\n",
    "\n",
    "Now that we know how to create AX.25 and APRS packets, know how to AFSK1200 modulate them, know how to demodulate AFSK1200 as well, we can move forward to receiving and decoding packets. By the end of that we will have a fully functioning communication system.\n",
    "\n",
    "Download the file [ISSpkt.wav](https://inst.eecs.berkeley.edu/~ee123/sp14/lab3/ISSpkt.wav). It contains an APRS packet I recorded on one of the ISS flybyes. Load it to your workspace using the function `wavread`, which we imported from `scipy.io`.\n",
    "(ISSpkt.wav) \n"
   ]
  },
  {
   "cell_type": "code",
   "execution_count": 45,
   "metadata": {
    "collapsed": false
   },
   "outputs": [],
   "source": [
    "sig = wavread(\"ISSpkt.wav\")[1]\n"
   ]
  },
  {
   "cell_type": "markdown",
   "metadata": {},
   "source": [
    "We will now automate the packet decoding by writing some functions that implement portions of the process.\n",
    "\n",
    "* Run the function `nc_afskDemod` on the ISS to get the demodulated \"analog\" NRZI\n",
    "* Plot the signal. It should look like a signal with $\\pm1$ switching!\n",
    "* compute the signum to get the rectified digital NRZI."
   ]
  },
  {
   "cell_type": "code",
   "execution_count": 46,
   "metadata": {
    "collapsed": false
   },
   "outputs": [
    {
     "data": {
      "image/png": "[encoded data removed]",
      "text/plain": [
       "<matplotlib.figure.Figure at 0x169c1390>"
      ]
     },
     "metadata": {},
     "output_type": "display_data"
    }
   ],
   "source": [
    "NRZIa = nc_afskDemod(sig)\n",
    "fig = figure(figsize(16,4))\n",
    "plot(NRZIa)\n",
    "NRZI = sign(NRZIa)"
   ]
  },
  {
   "cell_type": "markdown",
   "metadata": {},
   "source": [
    "### Decoding Bits from the Demodulated NRZI Signal\n",
    "We know how to get the NRZI signal, but the main issue that is left to resolve is to detect when a packet is received and synchronize to the beginning of it so we can correctly interpret its bits. \n",
    "\n",
    "There are many ways to do this. Here we will use a simple decoder that is based on zero-crossings of the NRZI sequence. Recall that a '1' is encoded by no change and a '0' is encoded by change of sign. Therefore, if we see a 1 bit time-length between zero crossing we can decode that transition as a '0'. If we see 2 bit time-length between zero crossings of the NRZI we can decode this as '10'. Similarly if we see a 3 bit time-length we decode it all as '110', 4 as '1110', 5 as '11110' and 6 as '111110'. \n",
    "Because of the bit-stuffing, the only 7 bit time-length valid sequence is the flag sequence that marks the begining and the end of the packet. Of course we can not expect the transitions to be accurate due to noise and other corruptions. We therefore give an error margin of 1/2 a bit-length for decoding.  For example, we will decode a '0' for zero-crossing interval between 1/2 a bit and 3/2 bits., a '10' for zero-crossing interval between 3/2 and 5/2 bits, etc. \n",
    "\n",
    "We have implemented the decoding as a state machine for you. We first look for a flag sequence. When it is found we start collecting the bits of the packet. If at any time we get an invalid interval length we discard the data and start looking again for a flag. If the second flag is detected, a packet is announced. We then check if the checksum is valid. If it is, the packet is recorded and returned. \n",
    "\n",
    "\n"
   ]
  },
  {
   "cell_type": "code",
   "execution_count": 6,
   "metadata": {
    "collapsed": false
   },
   "outputs": [],
   "source": [
    "# function to generate a checksum for validating packets\n",
    "def genfcs(bits):\n",
    "    # Generates a checksum from packet bits\n",
    "    fcs = ax25.FCS()\n",
    "    for bit in bits:\n",
    "        fcs.update_bit(bit)\n",
    "    \n",
    "    digest = bitarray.bitarray(endian=\"little\")\n",
    "    digest.frombytes(fcs.digest())\n",
    "\n",
    "    return digest\n",
    "\n",
    "\n",
    "# function to parse packet bits to information\n",
    "def decodeAX25(bits):\n",
    "    ax = ax25.AX25()\n",
    "    ax.info = \"bad packet\"\n",
    "    \n",
    "    \n",
    "    bitsu = ax25.bit_unstuff(bits[8:-8])\n",
    "    \n",
    "    if (genfcs(bitsu[:-16]).tobytes() == bitsu[-16:].tobytes()) == False:\n",
    "        #print(\"failed fcs\")\n",
    "        return ax\n",
    "    \n",
    "    bytes = bitsu.tobytes()\n",
    "    ax.destination = ax.callsign_decode(bitsu[:56])\n",
    "    source = ax.callsign_decode(bitsu[56:112])\n",
    "    if source[-1].isdigit() and source[-1]!=\"0\":\n",
    "        ax.source = b\"\".join((source[:-1],'-',source[-1]))\n",
    "    else:\n",
    "        ax.source = source[:-1]\n",
    "    \n",
    "    digilen=0    \n",
    "    \n",
    "    if bytes[14]=='\\x03' and bytes[15]=='\\xf0':\n",
    "        digilen = 0\n",
    "    else:\n",
    "        for n in range(14,len(bytes)-1):\n",
    "            if ord(bytes[n]) & 1:\n",
    "                digilen = (n-14)+1\n",
    "                break\n",
    "\n",
    "#    if digilen > 56:\n",
    "#        return ax\n",
    "    ax.digipeaters =  ax.callsign_decode(bitsu[112:112+digilen*8])\n",
    "    ax.info = bitsu[112+digilen*8+16:-16].tobytes()\n",
    "    \n",
    "    return ax\n",
    "\n",
    "\n",
    "def detectFrames(NRZI):  \n",
    "    # function looks for packets in an NRZI sequence and validates their checksum\n",
    "    \n",
    "    # compute finite differences of the digital NRZI to detect zero-crossings\n",
    "    dNRZI = NRZI[1:] - NRZI[:-1]\n",
    "    # find the position of the non-zero components. These are the indexes of the zero-crossings. \n",
    "    transit = nonzero(dNRZI)[0]\n",
    "    # Transition time is the difference between zero-crossings\n",
    "    transTime = transit[1:]-transit[:-1]\n",
    "    \n",
    "    # loop over transitions, convert to bit streams and extract packets\n",
    "    dict = { 1:bitarray.bitarray([0]), 2:bitarray.bitarray([1,0]), 3:bitarray.bitarray([1,1,0]),\n",
    "            4:bitarray.bitarray([1,1,1,0]),5:bitarray.bitarray([1,1,1,1,0]),6:bitarray.bitarray([1,1,1,1,1,0])\n",
    "            ,7:bitarray.bitarray([1,1,1,1,1,1,0])}\n",
    "    \n",
    "    state = 0; # no flag detected yet\n",
    "    \n",
    "    packets =[]\n",
    "    tmppkt = bitarray.bitarray([0])\n",
    "    lastFlag = 0  # position of the last flag found. \n",
    "    \n",
    "    for n in range(0,len(transTime)):\n",
    "        Nb = round(transTime[n]/36.75)  # maps intervals to bits. Assume 44100Hz and 1200baud\n",
    "        if (Nb == 7 and state ==0):\n",
    "            # detected flag frame, start collecting a packet\n",
    "            tmppkt = tmppkt +  dict[7]\n",
    "            state = 1  # packet detected\n",
    "            lastFlag = transit[n-1]\n",
    "            continue\n",
    "        if (Nb == 7 and state == 1):\n",
    "            # detected end frame successfully\n",
    "            tmppkt = tmppkt + dict[7]\n",
    "            \n",
    "            # validate checksum\n",
    "            bitsu = ax25.bit_unstuff(tmppkt[8:-8]) # unstuff bits\n",
    "            if (genfcs(bitsu[:-16]).tobytes() == bitsu[-16:].tobytes()) :\n",
    "                # valid packet\n",
    "                packets.append(tmppkt)                \n",
    "            tmppkt  = bitarray.bitarray([0])\n",
    "            state = 0\n",
    "            continue\n",
    "        \n",
    "        if (state == 1 and Nb < 7 and Nb > 0):\n",
    "            # valid bits \n",
    "            tmppkt = tmppkt + dict[Nb]\n",
    "            continue\n",
    "        else:\n",
    "            # not valid bits reset\n",
    "            state = 0\n",
    "            tmppkt  = bitarray.bitarray([0])\n",
    "            continue\n",
    "   \n",
    "    if state == 0:\n",
    "        lastFlag = -1\n",
    "    \n",
    "    # if the state is 1, which means that we detected a packet, but the buffer ended, then\n",
    "    # we return the position of the beginning of the flag within the buffer to let the caller\n",
    "    # know that there's a packet that overlapps between two buffer frames. \n",
    "    \n",
    "    return packets, lastFlag\n",
    "            \n",
    "    \n"
   ]
  },
  {
   "cell_type": "markdown",
   "metadata": {},
   "source": [
    "Here's the code to decode the packet:"
   ]
  },
  {
   "cell_type": "code",
   "execution_count": 48,
   "metadata": {
    "collapsed": false
   },
   "outputs": [
    {
     "name": "stdout",
     "output_type": "stream",
     "text": [
      "Dest: CQ    0 | Source: RS0ISS | Digis:  | >ARISS - International Space Station |\n"
     ]
    }
   ],
   "source": [
    "packets ,lastflag = detectFrames(NRZI)\n",
    "ax = decodeAX25(packets[0])\n",
    "print(\"Dest: %s | Source: %s | Digis: %s | %s |\" %(ax.destination ,ax.source ,ax.digipeaters,ax.info))"
   ]
  },
  {
   "cell_type": "markdown",
   "metadata": {},
   "source": [
    "* Download the file [ISSpkt_full.wav](https://inst.eecs.berkeley.edu/~ee123/sp14/lab3/ISSpkt_full.wav). It contains the entire ISS flyby recording. \n",
    "* Now, load the entire recording, decode and display all the messages. You should get at least 20 of them."
   ]
  },
  {
   "cell_type": "code",
   "execution_count": 50,
   "metadata": {
    "collapsed": false
   },
   "outputs": [
    {
     "name": "stdout",
     "output_type": "stream",
     "text": [
      "('CQ    0', 'RS0ISS', '', '>ARISS - International Space Station')\n",
      "('CQ    p', 'N7HQB ', 'RS0ISSp', '=4038.2604n/11155.90744w-HELLO FROM N7HQB IN SLC UTAH!\\r')\n",
      "('CQ    0', 'N7NEV ', 'RS0ISSpWIDE2 2WIDE1 1', '>CQCQCQ\\r')\n",
      "('CQ    p', 'N7HQB ', 'RS0ISSp', 'HELO VIA THE ISS\\r')\n",
      "('CQ    0', 'K7RFK ', 'RS0ISSp', '\\r')\n",
      "('CQ    0', 'K7RFK ', 'RS0ISSp', '\\r')\n",
      "('CQ    0', 'N7NEV ', 'RS0ISSpWIDE2 2WIDE1 1', '>from DM43\\r')\n",
      "('CQ    p', 'N7HQB ', 'RS0ISSp', '=4038.2604n/11155.90744w-HELLO FROM N7HQB IN SLC UTAH!\\r')\n",
      "('CQ    p', 'N7HQB ', 'RS0ISSp', 'HELLO VIA THE ISS\\r')\n",
      "('CQ    0', 'K7RFK ', 'RS0ISSp', '=4635.49N/12032.27W-\\r')\n",
      "('CQ    p', 'N7HQB ', 'RS0ISSp', '=4038.2604n/11155.90744w-HELLO FROM N7HQB IN SLC UTAH!\\r')\n",
      "('CQ    p', 'N7HQB ', 'RS0ISSp', 'HELLO\\r')\n",
      "('CQ    p', 'N7HQB ', 'RS0ISSp', 'HELLO VIA THE ISS\\r')\n",
      "('CQ    0', 'K7RFK ', 'RS0ISSp', '>CN96\\r')\n",
      "('CQ    0', 'K7RFK ', 'RS0ISSp', '>CN96\\r')\n",
      "('ARISS p', 'KF1BUZ', 'RS0ISSpAPRS  0WIDE2 2SGATE 0ISS   0IGATE 0PCSAT 0BEACON0', '=3932.15N/11951.16Wy.kf1buz and k1gem say hi from reno nv\\r')\n",
      "('CQ    0', 'K7RFK ', 'RS0ISSp', '\\r')\n",
      "('ARISS p', 'KF1BUZ', 'RS0ISSpAPRS  0WIDE2 2SGATE 0ISS   0IGATE 0PCSAT 0BEACON0', '=3932.15N/11951.16Wy.kf1buz and k1gem say hi from reno nv\\r')\n",
      "('CQ    0', 'K7RFK ', 'RS0ISSp', '\\r')\n",
      "('CQ    p', 'N7HQB ', 'RS0ISSp', 'TEST\\r')\n"
     ]
    }
   ],
   "source": [
    "sig = wavread(\"ISSpkt_full.wav\")[1]\n",
    "NRZIa = nc_afskDemod(sig)\n",
    "NRZI = sign(NRZIa)\n",
    "packets ,lastflag = detectFrames(NRZI)\n",
    "\n",
    "for pkt in packets:\n",
    "        ax = decodeAX25(pkt)\n",
    "        print(ax.destination ,ax.source ,ax.digipeaters,ax.info)\n"
   ]
  },
  {
   "cell_type": "markdown",
   "metadata": {},
   "source": [
    "### AX25 Stream Processing\n",
    "\n",
    "The purpose of the next task is to implement a stream processing in which a continuous stream of data is coming and we would like to process and decode packet in real time. The idea is simple, we get a buffer of samples and decode packets within the buffer. \n",
    "There are two issues:\n",
    "1. Our filtering and demodulation needs to mitigate with boundaries between buffers. We will solve it by overlapp and save type of an approach.\n",
    "2. A packet may start towards the end of the buffer and continue to the next. The length of a packet is much bigger than the filter delay. Therefore, if that situation happens, the function `detectFrames` will return the position of the lastFlag within the current buffer. If there is no such flag, it will return -1. You can then use the result of the flag to concatenate part of the previous buffer to the next so the packet is whole.\n",
    "\n",
    "For simplicity we will work on  1 second length buffers. \n",
    "\n",
    "The following code will put chunks of 1024 samples into a queue.  This simulates what the audio receive function does. We also create two more queues: Qout and Qtext which we will use later for communication between threads in the GUI application.\n",
    "\n",
    "**Just for debugging purpose, we inser a string \"END\" as the last push. The receiver should look for the string and quit -- this is to prevent an infinite loop. In the actual GUI application, this will be unnecessary. ** \n",
    "\n"
   ]
  },
  {
   "cell_type": "code",
   "execution_count": 91,
   "metadata": {
    "collapsed": false
   },
   "outputs": [],
   "source": [
    "sig = wavread(\"ISSpkt_full.wav\")[1]\n",
    "Qin = Queue.Queue()\n",
    "Qout = Queue.Queue()\n",
    "Qtext = Queue.Queue()\n",
    "\n",
    "for n in r_[0:len(sig):1024]:\n",
    "    Qin.put(sig[n:n+1024])\n",
    "Qin.put(\"END\")\n",
    "\n",
    "    "
   ]
  },
  {
   "cell_type": "markdown",
   "metadata": {},
   "source": [
    "Task:\n",
    "\n",
    "* Write a function, APRS_rcv(Qin, Qout, Qtext). The function will act as an APRS receiver (that can later be run as a separate thread). The function will read samples from the Qin queue and process them correctly such that the data is demodulated and packets are decoded appropriately. The function should print the decoded packets information to the screen, and in addition push the decoded text into the Qtext queue (this is for the GUI later....). The function should also push the raw samples back to Qout queue (This is again for the GUI later...). \n",
    "\n",
    "* PyAudio gets 1024 samples at a time and pushes them into the queue. This is too short of a buffer to process packets with. To mitigate with that, collect somewhere between 43-86 1024-sample long buffers to a single large one. This will correspond to a 1-2 second long buffer. Then send the large buffer  to be demodulated and processed. \n",
    "* nc_afskdemod performs filtering. You can not filter each buffer separately and assume everything will work exactly as processing the entire signal as above. Remeber that there are valid and non valid entries. Make sure you overlap buffers appropriately, and keep the right samples \n",
    "* When the function detectFrames encounters a situation where the buffer ends in a middle of a packet, it will return the position of the start of that packet in the buffer. Use it to concatenate that part to the next buffer so the packet is processed appropriately.\n",
    "* In order that your function to exit and not get stuck on an empty Queue, always check for the string \"END\". If the string \"END\" comes out of the queue, quit the function. ** This is just for debugging purposes -- you will not need that lated **\n",
    "* Use the function to decode the messages in the Queue.\n",
    "* you should get the exact same output as you've gotten without stream processing. If you don't... then Houston, ... we got a problem!\n",
    "* Once you decoded the packets, you can search on QRZ.com and get information on the people who sent them. \n",
    "\n",
    "\n",
    " **\\*With my code I was able to decode 20 packets. **\n"
   ]
  },
  {
   "cell_type": "code",
   "execution_count": 49,
   "metadata": {
    "collapsed": false
   },
   "outputs": [],
   "source": [
    "long_buffer = np.array([]);"
   ]
  },
  {
   "cell_type": "code",
   "execution_count": 82,
   "metadata": {
    "collapsed": false
   },
   "outputs": [
    {
     "data": {
      "text/plain": [
       "([bitarray('0111111001100001010001010000001000000010000000100000001000000110001001010110010100000110010010010110010101100101100001111100000000000111101111100010000010010010101001001011001010110010100000010010110100000001001001001001110110001011101010011001001110011101101000011000101110100101101111011001110110100001100011011000000100110010100000111010000110110001101010011000000100110010100010111010000110001011101001011011110110011101101101111100010000101111110'),\n",
       "  bitarray('01111110011000010100010100000010000000100000001000000010000001110011100101110110000010010100010100100001000000100000011000100101011001010000011001001001011001010110010110000111110000000000011111001111000010110000001100110011000001110001110100010011000110110000001100001011000111011011110100100011001000110010001100101011001010110001110100100111000000110011101100001011000010110011101110101101000001001010100010001100100011001011110010000001000110001001001010111100101011001000000100011100101110110000010010100010100100001000000100100100100111001000000100110010100011001011000010000001001010101000101010100000100001001010000100101100001001101110111110101111110'),\n",
       "  bitarray('011111100110000101000101000000100000001000000010000000100000011000111001011101100011100101010001001101010000001001000111001001010110010100000110010010010110010101100101000001110111010101001001000100010101000100100110000000100010011001110101010010010001000101010001010001100000001011000110110000000000111101111100011000010100010101100001010001010110000101000101010110000100101010011010001111110'),\n",
       "  bitarray('011111100110000101000101000000100000001000000010000000100000011100111001011101100000100101000101001000010000001000000110001001010110010100000110010010010110010101100101100001111100000000000111100010010101000100011001011110010000001000110101010010010100000100000010000101010000100101010001000000100100100101100101011001010101100000001001010111110101111110'),\n",
       "  bitarray('0111111001100001010001010000001000000010000000100000001000000110011010010111011000100101001100010110100100000010000001100010010101100101000001100100100101100101011001011000011111000000000001111100110000101101001000110001111110'),\n",
       "  bitarray('0111111001100001010001010000001000000010000000100000001000000110011010010111011000100101001100010110100100000010000001100010010101100101000001100100100101100101011001011000011111000000000001111100110000101101001000110001111110'),\n",
       "  bitarray('011111100110000101000101000000100000001000000010000000100000011000111001011101100011100101010001001101010000001001000111001001010110010100000110010010010110010101100101000001110111010101001001000100010101000100100110000000100010011001110101010010010001000101010001010001100000001011000110110000000000111101111100001100110010011101111011010110110000001000010001010110010001011001100110010110000110101101001000101111110'),\n",
       "  bitarray('01111110011000010100010100000010000000100000001000000010000001110011100101110110000010010100010100100001000000100000011000100101011001010000011001001001011001010110010110000111110000000000011111001111000010110000001100110011000001110001110100010011000110110000001100001011000111011011110100100011001000110010001100101011001010110001110100100111000000110011101100001011000010110011101110101101000001001010100010001100100011001011110010000001000110001001001010111100101011001000000100011100101110110000010010100010100100001000000100100100100111001000000100110010100011001011000010000001001010101000101010100000100001001010000100101100001001101110111110101111110')],\n",
       " -1)"
      ]
     },
     "execution_count": 82,
     "metadata": {},
     "output_type": "execute_result"
    }
   ],
   "source": [
    "\n",
    "for i in range(1000):\n",
    "    long_buffer = np.concatenate((long_buffer, Qin.get()));\n",
    "NRZIa = nc_afskDemod(long_buffer);\n",
    "NRZI = sign(NRZIa);\n",
    "packets, lastflag = detectFrames(NRZI);\n",
    "packets, lastflag"
   ]
  },
  {
   "cell_type": "code",
   "execution_count": 32,
   "metadata": {
    "collapsed": false
   },
   "outputs": [
    {
     "data": {
      "text/plain": [
       "738"
      ]
     },
     "execution_count": 32,
     "metadata": {},
     "output_type": "execute_result"
    }
   ],
   "source": [
    "Qin.qsize()"
   ]
  },
  {
   "cell_type": "code",
   "execution_count": 90,
   "metadata": {
    "collapsed": true
   },
   "outputs": [],
   "source": [
    "def APRS_rcv(Qin, Qout, Qtext):\n",
    "# function reads audio from Qin, Processes a chunk of samples to detect\n",
    "# APRS packets. Sends the decoded text to the Qtext Queue to be displayed. \n",
    "# It also pipes the samples it gets back to Qout so it is played on the computer\n",
    "# speaker, so you can hear when packets arrive \n",
    "#\n",
    "# When implementing this function, pay attention to the stream processing\n",
    "# So no packets get lost if they overlap between chunks\n",
    "#\n",
    "# Use the function detectFrames\n",
    "\n",
    "  ##############################\n",
    "    \n",
    "    # your code here\n",
    "    next_buffer = np.array([]);\n",
    "    long_buffer = np.array([]);\n",
    "    while Qin.qsize() > 1:\n",
    "        packets = [];\n",
    "        sample = \"\";\n",
    "        while not len(packets):\n",
    "            for i in range(80):\n",
    "                sample = Qin.get();\n",
    "                long_buffer = np.concatenate((long_buffer, sample));\n",
    "            NRZIa = nc_afskDemod(long_buffer);\n",
    "            NRZI = sign(NRZIa);\n",
    "            packets, lastflag = detectFrames(NRZI);\n",
    "            if lastflag > 0:\n",
    "                next_buffer = NRZI[lastflag:].copy();\n",
    "        \n",
    "        Qout.put(long_buffer);\n",
    "        ax = decodeAX25(packets[0])\n",
    "        Qtext.put(datetime.datetime.now().strftime(\"%Y-%m-%d %H:%M\") +\">  APP:\"+ ax.destination +\"   FRM:\"+ ax.source+\"   MSG:\"+ ax.info + \"\\n\")\n",
    "        print(ax.destination ,ax.source ,ax.digipeaters,ax.info)\n",
    "        long_buffer = next_buffer.copy();\n",
    "        next_buffer = np.array([]);\n",
    "\n",
    "\n",
    "  ###################################################################\n",
    "    # code to display the packet info and put in the text queue.\n",
    "    #for pkt in packets:\n",
    "    #    ax = decodeAX25(pkt)\n",
    "    #    Qtext.put(datetime.datetime.now().strftime(\"%Y-%m-%d %H:%M\") +\">  APP:\"+ ax.destination +\"   FRM:\"+ ax.source+\"   MSG:\"+ ax.info + \"\\n\")\n",
    "    #    print(ax.destination ,ax.source ,ax.digipeaters,ax.info)\n"
   ]
  },
  {
   "cell_type": "markdown",
   "metadata": {},
   "source": [
    "Run the aprs receiver with the input and output queues"
   ]
  },
  {
   "cell_type": "code",
   "execution_count": null,
   "metadata": {
    "collapsed": false
   },
   "outputs": [
    {
     "name": "stdout",
     "output_type": "stream",
     "text": [
      "('CQ    0', 'RS0ISS', '', '>ARISS - International Space Station')\n",
      "('CQ    p', 'N7HQB ', 'RS0ISSp', '=4038.2604n/11155.90744w-HELLO FROM N7HQB IN SLC UTAH!\\r')\n",
      "('CQ    0', 'N7NEV ', 'RS0ISSpWIDE2 2WIDE1 1', '>CQCQCQ\\r')\n",
      "('CQ    p', 'N7HQB ', 'RS0ISSp', 'HELO VIA THE ISS\\r')\n",
      "('CQ    0', 'K7RFK ', 'RS0ISSp', '\\r')\n",
      "('CQ    0', 'K7RFK ', 'RS0ISSp', '\\r')\n",
      "('CQ    0', 'N7NEV ', 'RS0ISSpWIDE2 2WIDE1 1', '>from DM43\\r')\n",
      "('CQ    p', 'N7HQB ', 'RS0ISSp', '=4038.2604n/11155.90744w-HELLO FROM N7HQB IN SLC UTAH!\\r')\n",
      "('CQ    p', 'N7HQB ', 'RS0ISSp', 'HELLO VIA THE ISS\\r')\n",
      "('CQ    0', 'K7RFK ', 'RS0ISSp', '=4635.49N/12032.27W-\\r')\n",
      "('CQ    p', 'N7HQB ', 'RS0ISSp', '=4038.2604n/11155.90744w-HELLO FROM N7HQB IN SLC UTAH!\\r')\n",
      "('CQ    p', 'N7HQB ', 'RS0ISSp', 'HELLO\\r')\n",
      "('CQ    p', 'N7HQB ', 'RS0ISSp', 'HELLO VIA THE ISS\\r')\n",
      "('CQ    0', 'K7RFK ', 'RS0ISSp', '>CN96\\r')\n",
      "('CQ    0', 'K7RFK ', 'RS0ISSp', '>CN96\\r')\n",
      "('ARISS p', 'KF1BUZ', 'RS0ISSpAPRS  0WIDE2 2SGATE 0ISS   0IGATE 0PCSAT 0BEACON0', '=3932.15N/11951.16Wy.kf1buz and k1gem say hi from reno nv\\r')\n",
      "('CQ    0', 'K7RFK ', 'RS0ISSp', '\\r')\n",
      "('ARISS p', 'KF1BUZ', 'RS0ISSpAPRS  0WIDE2 2SGATE 0ISS   0IGATE 0PCSAT 0BEACON0', '=3932.15N/11951.16Wy.kf1buz and k1gem say hi from reno nv\\r')\n",
      "('CQ    0', 'K7RFK ', 'RS0ISSp', '\\r')\n",
      "('CQ    p', 'N7HQB ', 'RS0ISSp', 'TEST\\r')"
     ]
    }
   ],
   "source": [
    "APRS_rcv(Qin, Qout, Qtext)"
   ]
  },
  {
   "cell_type": "markdown",
   "metadata": {},
   "source": [
    "## Final Task: Full functioning APRS packet tranciever\n",
    "\n",
    "To really enjoy APRS we implemented a GUI application for you. This serves as a user interface for the backend modem you wrote.  To make the application complete and operational you will need to add several functions.\n",
    "\n",
    "* Download aprs_app.py and aprs.py from the class website\n",
    "* edit aprs.py and complete the missing functions at the bottom of the file. In particular afsk1200, nc_afskDemod and APRS_rcv\n",
    "* Run the gui. Enter the appropriate audio devices and enter your callsign. \n",
    "* To debug that the application works, you don't need the radio. Carefully disconnect the yellow jack from the usb audio and connect the thick 3.5mm connector (that is supposed to connect to the radio) instead. This will create a loop in which packets that are transmitted by the transmitter will be received by the receiver.\n",
    "* When using the radio, for best results, turn the squelche to 0 (Menue->0 then Menue again and set to 0). \n",
    "* Once you get the app to work, you can play with sending EMAIL, SMS ([Link to howto](http://smsgte.wix.com/smsgte#!userguide/canh)) and text messages to other classmates. Enjoy!\n",
    "* You can either operate on the APRS frequency, decode packets and send in real time, try to communicate through the ISS, or use one of the digital channels and text your friends!\n",
    "\n"
   ]
  },
  {
   "cell_type": "code",
   "execution_count": null,
   "metadata": {
    "collapsed": true
   },
   "outputs": [],
   "source": []
  }
 ],
 "metadata": {
  "kernelspec": {
   "display_name": "Python 2",
   "language": "python",
   "name": "python2"
  },
  "language_info": {
   "codemirror_mode": {
    "name": "ipython",
    "version": 2
   },
   "file_extension": ".py",
   "mimetype": "text/x-python",
   "name": "python",
   "nbconvert_exporter": "python",
   "pygments_lexer": "ipython2",
   "version": "2.7.6"
  }
 },
 "nbformat": 4,
 "nbformat_minor": 0
}
