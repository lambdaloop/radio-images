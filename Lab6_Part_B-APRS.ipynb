{
 "cells": [
  {
   "cell_type": "markdown",
   "metadata": {},
   "source": [
    "# Radio Images\n",
    "Transmitting images over radio\n",
    "\n"
   ]
  },
  {
   "cell_type": "code",
   "execution_count": 3,
   "metadata": {
    "collapsed": false
   },
   "outputs": [
    {
     "name": "stdout",
     "output_type": "stream",
     "text": [
      "Using matplotlib backend: Qt4Agg\n",
      "Populating the interactive namespace from numpy and matplotlib\n"
     ]
    },
    {
     "name": "stderr",
     "output_type": "stream",
     "text": [
      "WARNING: pylab import has clobbered these variables: ['fft']\n",
      "`%matplotlib` prevents importing * from pylab and numpy\n"
     ]
    }
   ],
   "source": [
    "%pylab\n",
    "# Import functions and libraries\n",
    "import numpy as np\n",
    "import matplotlib.pyplot as plt\n",
    "import pyaudio\n",
    "import Queue\n",
    "import threading,time\n",
    "import sys\n",
    "\n",
    "from numpy import pi\n",
    "from numpy import sin\n",
    "from numpy import zeros\n",
    "from numpy import r_\n",
    "from numpy import ones\n",
    "from scipy import signal\n",
    "from scipy import integrate\n",
    "from __future__ import division\n",
    "\n",
    "import threading,time\n",
    "import multiprocessing\n",
    "\n",
    "from rtlsdr import RtlSdr\n",
    "from numpy import mean\n",
    "from numpy import power\n",
    "from numpy.fft import fft\n",
    "from numpy.fft import fftshift\n",
    "from numpy.fft import ifft\n",
    "from numpy.fft import ifftshift\n",
    "import bitarray\n",
    "from  scipy.io.wavfile import read as wavread\n",
    "import serial\n",
    "\n",
    "%matplotlib inline"
   ]
  },
  {
   "cell_type": "markdown",
   "metadata": {},
   "source": [
    "For the following tasks you will need the functions:\n",
    "\n",
    "`sg_plot`  included in lab7.py\n",
    "\n",
    "`myspectrogram_hann_ovlp` included in lab7.py\n",
    "\n",
    "`play_audio` included in lab7.py\n",
    "\n",
    "`record_audio`  included in lab7.py\n",
    "\n",
    "`printDevNumbers`  included in lab7.py\n",
    "\n",
    "`text2Morse` (to Identify yourself before transmission)\n",
    "\n",
    "`afsk1200` (from the previous lab)\n",
    "\n",
    "`nc_afskDemod` (from the previous lab)"
   ]
  },
  {
   "cell_type": "code",
   "execution_count": 4,
   "metadata": {
    "collapsed": true
   },
   "outputs": [],
   "source": [
    "# Plot an image of the spectrogram y, with the axis labeled with time tl,\n",
    "# and frequency fl\n",
    "#\n",
    "# t_range -- time axis label, nt samples\n",
    "# f_range -- frequency axis label, nf samples\n",
    "# y -- spectrogram, nf by nt array\n",
    "# dbf -- Dynamic range of the spect\n",
    "\n",
    "def sg_plot( t_range, f_range, y, dbf = 60) :\n",
    "    eps = 1e-3\n",
    "    \n",
    "    # find maximum\n",
    "    y_max = abs(y).max()\n",
    "    \n",
    "    # compute 20*log magnitude, scaled to the max\n",
    "    y_log = 20.0 * np.log10( abs( y ) / y_max + eps )\n",
    "    \n",
    "    fig=figure(figsize=(15,6))\n",
    "    \n",
    "    plt.imshow( np.flipud( 64.0*(y_log + dbf)/dbf ), extent= t_range  + f_range ,cmap=plt.cm.gray, aspect='auto')\n",
    "    plt.xlabel('Time, s')\n",
    "    plt.ylabel('Frequency, Hz')\n",
    "    plt.tight_layout()\n",
    "\n",
    "\n",
    "def myspectrogram_hann_ovlp(x, m, fs, fc,dbf = 60):\n",
    "    # Plot the spectrogram of x.\n",
    "    # First take the original signal x and split it into blocks of length m\n",
    "    # This corresponds to using a rectangular window %\n",
    "    \n",
    "    \n",
    "    isreal_bool = isreal(x).all()\n",
    "    \n",
    "    # pad x up to a multiple of m \n",
    "    lx = len(x);\n",
    "    nt = (lx + m - 1) // m\n",
    "    x = append(x,zeros(-lx+nt*m))\n",
    "    x = x.reshape((m/2,nt*2), order='F')\n",
    "    x = concatenate((x,x),axis=0)\n",
    "    x = x.reshape((m*nt*2,1),order='F')\n",
    "    x = x[r_[m//2:len(x),ones(m//2)*(len(x)-1)].astype(int)].reshape((m,nt*2),order='F')\n",
    "    \n",
    "    \n",
    "    xmw = x * hanning(m)[:,None];\n",
    "    \n",
    "    \n",
    "    # frequency index\n",
    "    t_range = [0.0, lx / fs]\n",
    "    \n",
    "    if isreal_bool:\n",
    "        f_range = [ fc, fs / 2.0 + fc]\n",
    "        xmf = np.fft.fft(xmw,len(xmw),axis=0)\n",
    "        sg_plot(t_range, f_range, xmf[0:m/2,:],dbf=dbf)\n",
    "        print 1\n",
    "    else:\n",
    "        f_range = [-fs / 2.0 + fc, fs / 2.0 + fc]\n",
    "        xmf = np.fft.fftshift( np.fft.fft( xmw ,len(xmw),axis=0), axes=0 )\n",
    "        sg_plot(t_range, f_range, xmf,dbf = dbf)\n",
    "    \n",
    "    return t_range, f_range, xmf\n",
    "\n",
    "def play_audio( Q, p, fs , dev, ser=\"\", keydelay=0.200):\n",
    "    # play_audio plays audio with sampling rate = fs\n",
    "    # Q - A queue object from which to play\n",
    "    # p   - pyAudio object\n",
    "    # fs  - sampling rate\n",
    "    # dev - device number\n",
    "    # ser - pyserial device to key the radio\n",
    "    # keydelay - delay after keying the radio\n",
    "    \n",
    "    # Example:\n",
    "    # fs = 44100\n",
    "    # p = pyaudio.PyAudio() #instantiate PyAudio\n",
    "    # Q = Queue.queue()\n",
    "    # Q.put(data)\n",
    "    # Q.put(\"EOT\") # when function gets EOT it will quit\n",
    "    # play_audio( Q, p, fs,1 ) # play audio\n",
    "    # p.terminate() # terminate pyAudio\n",
    "    \n",
    "    # open output stream\n",
    "    ostream = p.open(format=pyaudio.paFloat32, channels=1, rate=int(fs),output=True,output_device_index=dev)\n",
    "    # play audio\n",
    "    while (1):\n",
    "        data = Q.get()\n",
    "        if data==\"EOT\"  :\n",
    "            break\n",
    "        elif (data==\"KEYOFF\"  and ser!=\"\"):\n",
    "            time.sleep(keydelay)\n",
    "            ser.setDTR(0)\n",
    "            #print(\"keyoff\\n\")\n",
    "        elif (data==\"KEYON\" and ser!=\"\"):\n",
    "            ser.setDTR(1)  # key PTT\n",
    "            #print(\"keyon\\n\")\n",
    "            time.sleep(keydelay) # wait 200ms (default) to let the power amp to ramp up\n",
    "            \n",
    "        else:\n",
    "            try:\n",
    "                ostream.write( data.astype(np.float32).tostring() )\n",
    "            except:\n",
    "                print(\"Exception\")\n",
    "                break\n",
    "            \n",
    "def record_audio( queue, p, fs ,dev,chunk=1024):\n",
    "    # record_audio records audio with sampling rate = fs\n",
    "    # queue - output data queue\n",
    "    # p     - pyAudio object\n",
    "    # fs    - sampling rate\n",
    "    # dev   - device number \n",
    "    # chunk - chunks of samples at a time default 1024\n",
    "    #\n",
    "    # Example:\n",
    "    # fs = 44100\n",
    "    # Q = Queue.queue()\n",
    "    # p = pyaudio.PyAudio() #instantiate PyAudio\n",
    "    # record_audio( Q, p, fs, 1) # \n",
    "    # p.terminate() # terminate pyAudio\n",
    "    \n",
    "   \n",
    "    istream = p.open(format=pyaudio.paFloat32, channels=1, rate=int(fs),input=True,input_device_index=dev,frames_per_buffer=chunk)\n",
    "\n",
    "    # record audio in chunks and append to frames\n",
    "    frames = [];\n",
    "    while (1):\n",
    "        try:  # when the pyaudio object is distroyed stops\n",
    "            data_str = istream.read(chunk) # read a chunk of data\n",
    "        except:\n",
    "            break\n",
    "        data_flt = np.fromstring( data_str, 'float32' ) # convert string to float\n",
    "        queue.put( data_flt ) # append to list\n",
    "\n",
    "def text2Morse(text,fc,fs,dt):\n",
    "    CODE = {'A': '.-',     'B': '-...',   'C': '-.-.', \n",
    "        'D': '-..',    'E': '.',      'F': '..-.',\n",
    "        'G': '--.',    'H': '....',   'I': '..',\n",
    "        'J': '.---',   'K': '-.-',    'L': '.-..',\n",
    "        'M': '--',     'N': '-.',     'O': '---',\n",
    "        'P': '.--.',   'Q': '--.-',   'R': '.-.',\n",
    "     \t'S': '...',    'T': '-',      'U': '..-',\n",
    "        'V': '...-',   'W': '.--',    'X': '-..-',\n",
    "        'Y': '-.--',   'Z': '--..',\n",
    "        \n",
    "        '0': '-----',  '1': '.----',  '2': '..---',\n",
    "        '3': '...--',  '4': '....-',  '5': '.....',\n",
    "        '6': '-....',  '7': '--...',  '8': '---..',\n",
    "        '9': '----.',\n",
    "\n",
    "        ' ': ' ', \"'\": '.----.', '(': '-.--.-',  ')': '-.--.-',\n",
    "        ',': '--..--', '-': '-....-', '.': '.-.-.-',\n",
    "        '/': '-..-.',   ':': '---...', ';': '-.-.-.',\n",
    "        '?': '..--..', '_': '..--.-'\n",
    "        }\n",
    "    \n",
    "    Ndot= 1.0*fs*dt\n",
    "    Ndah = 3*Ndot\n",
    "    \n",
    "    sdot = sin(2*pi*fc*r_[0.0:Ndot]/fs)\n",
    "    sdah = sin(2*pi*fc*r_[0.0:Ndah]/fs)\n",
    "    \n",
    "    # convert to dit dah\n",
    "    mrs = \"\"\n",
    "    for char in text:\n",
    "        mrs = mrs + CODE[char.upper()] + \"*\"\n",
    "    \n",
    "    sig = zeros(1)\n",
    "    for char in mrs:\n",
    "        if char == \" \":\n",
    "            sig = concatenate((sig,zeros(Ndot*7)))\n",
    "        if char == \"*\":\n",
    "            sig = concatenate((sig,zeros(Ndot*3)))\n",
    "        if char == \".\":\n",
    "            sig = concatenate((sig,sdot,zeros(Ndot)))\n",
    "        if char == \"-\":\n",
    "            sig = concatenate((sig,sdah,zeros(Ndot)))\n",
    "    return sig\n",
    "            \n",
    "\n",
    "def printDevNumbers(p):\n",
    "    N = p.get_device_count()\n",
    "    for n in range(0,N):\n",
    "        name = p.get_device_info_by_index(n).get('name')\n",
    "        print n, name\n",
    "        \n"
   ]
  },
  {
   "cell_type": "markdown",
   "metadata": {},
   "source": [
    "Copy and paste your afsk1200 and nc_afskDemod functions here:"
   ]
  },
  {
   "cell_type": "code",
   "execution_count": 5,
   "metadata": {
    "collapsed": false
   },
   "outputs": [],
   "source": [
    "# copy and paste your own functions here. \n",
    "\n",
    "def afsk1200(bits):\n",
    "    #the function will take a bitarray of bits and will output an AFSK1200 modulated signal of them, sampled at 44100Hz\n",
    "    fs = 44100*4\n",
    "    baud = 1200\n",
    "    fc = 1700\n",
    "    delf = 500\n",
    "    \n",
    "    bits = np.array(bits.tolist())\n",
    "    \n",
    "    #print bits < 1\n",
    "    \n",
    "    bits = bits.astype(int)\n",
    "    \n",
    "    np.place(bits, bits < 1, [-1])\n",
    "    \n",
    "    #print bits\n",
    "    \n",
    "    #width, height = figaspect(0.2)\n",
    "    #fig = figure(figsize=(width,height))\n",
    "\n",
    "    #plot(np.r_[0:bits.size], bits)\n",
    "\n",
    "    #your code here\n",
    "    sperb = fs/baud\n",
    "    \n",
    "    t = np.r_[0:bits.size*sperb]\n",
    "    integ = integrate.cumtrapz(np.repeat(bits, sperb), initial=0)\n",
    "    \n",
    "    #fig = figure(figsize=(width,height))\n",
    "    #plot(np.r_[0:integ.size], integ)\n",
    "    \n",
    "    ph = t*2*pi*fc/fs + integ*2*pi*delf/fs\n",
    "    \n",
    "    sig = real(exp(1j*ph[::4]))\n",
    "    \n",
    "    return sig\n",
    "        \n",
    "              \n",
    "\n",
    "\n",
    "def nc_afskDemod(sig, TBW=2.0, N=74):\n",
    "    #  non-coherent demodulation of afsk1200\n",
    "    # function returns the NRZI (without rectifying it)\n",
    "    \n",
    "    # your code here\n",
    "    \n",
    "    # Generate filters\n",
    "    \n",
    "    fs = 44100\n",
    "    TBW = 2\n",
    "    N = 147\n",
    "    BW = 1200/fs\n",
    "    lowpass = signal.firwin(N, BW)\n",
    "    t = np.r_[0:N]\n",
    "    h_space = exp(1j*t*2*pi*2200/fs)*lowpass\n",
    "    h_mark = exp(1j*t*2*pi*1200/fs)*lowpass\n",
    "    \n",
    "    sig_space = signal.fftconvolve(sig, h_space)\n",
    "    sig_mark = signal.fftconvolve(sig, h_mark)\n",
    "    \n",
    "    #NRZI = np.absolute(sig_mark) - np.absolute(sig_space)\n",
    "    \n",
    "    #return NRZI > -0.02\n",
    "   \n",
    "    mark = np.absolute(sig_mark)\n",
    "    space = np.absolute(sig_space)\n",
    "\n",
    "    NRZI = (mark-space)\n",
    "    return NRZI\n",
    "\n"
   ]
  },
  {
   "cell_type": "markdown",
   "metadata": {},
   "source": [
    "Now, similarly to before, find the audio interface numbers. And intitialize the variables:\n",
    "dusb_in, dusb_out, din, dout \n",
    "\n"
   ]
  },
  {
   "cell_type": "code",
   "execution_count": 6,
   "metadata": {
    "collapsed": false
   },
   "outputs": [
    {
     "name": "stdout",
     "output_type": "stream",
     "text": [
      "0 HDA NVidia: CS4206 Analog (hw:0,0)\n",
      "1 HDA NVidia: CS4206 Digital (hw:0,1)\n",
      "2 HDA NVidia: HDMI 0 (hw:0,3)\n",
      "3 HDA NVidia: HDMI 0 (hw:0,7)\n",
      "4 HDA NVidia: HDMI 0 (hw:0,8)\n",
      "5 sysdefault\n",
      "6 front\n",
      "7 surround21\n",
      "8 surround40\n",
      "9 surround51\n",
      "10 surround71\n",
      "11 iec958\n",
      "12 spdif\n",
      "13 hdmi\n",
      "14 pulse\n",
      "15 dmixout\n",
      "16 dmix\n",
      "17 default\n"
     ]
    }
   ],
   "source": [
    "        \n",
    "p = pyaudio.PyAudio()\n",
    "printDevNumbers(p)\n",
    "p.terminate()"
   ]
  },
  {
   "cell_type": "code",
   "execution_count": 5,
   "metadata": {
    "collapsed": true
   },
   "outputs": [],
   "source": [
    "# CHANGE!!!!\n",
    "dusb_in = 1\n",
    "dusb_out = 5\n",
    "din = 2\n",
    "dout = 7"
   ]
  },
  {
   "cell_type": "markdown",
   "metadata": {},
   "source": [
    "Initialize serial port"
   ]
  },
  {
   "cell_type": "code",
   "execution_count": 40,
   "metadata": {
    "collapsed": true
   },
   "outputs": [],
   "source": [
    "if sys.platform == 'darwin':  # Mac\n",
    "    s = serial.Serial(port='/dev/tty.SLAB_USBtoUART')\n",
    "else:                         #windows\n",
    "    s = serial.Serial(port='COM7') # CHANGE !!!!!!"
   ]
  },
  {
   "cell_type": "code",
   "execution_count": 14,
   "metadata": {
    "collapsed": false
   },
   "outputs": [],
   "source": [
    "def play_audio_direct( data, p, fs):\n",
    "    # data - audio data array\n",
    "    # p    - pyAudio object\n",
    "    # fs    - sampling rate\n",
    "    \n",
    "    # open output stream\n",
    "    ostream = p.open(format=pyaudio.paFloat32, channels=1, rate=fs,output=True)\n",
    "    # play audio\n",
    "    ostream.write( data.astype(np.float32).tostring() )"
   ]
  },
  {
   "cell_type": "code",
   "execution_count": 16,
   "metadata": {
    "collapsed": false
   },
   "outputs": [
    {
     "data": {
      "image/png": "[encoded data removed]",
      "text/plain": [
       "<matplotlib.figure.Figure at 0x7f473ff47510>"
      ]
     },
     "metadata": {},
     "output_type": "display_data"
    }
   ],
   "source": [
    "# construct message\n",
    "bitarray.bitarray()\n",
    "\n",
    "bits= bitarray.bitarray(list(np.random.random(10000) > 0.5))\n",
    "msg = afsk1200(bits)\n",
    "\n",
    "\n",
    "\n",
    "# display spectrogram\n",
    "fig = figure(figsize(16,4))\n",
    "plot(linspace(0,22050/4,20000/4),abs(np.fft.fft(msg,n=40000))[:20000/4])\n",
    "\n",
    "xlabel('Hz')\n",
    "title('Spectrum of AFSK1200')\n",
    "\n",
    "\n",
    "# play message on your speaker\n",
    "# instantiate PyAudio\n",
    "p = pyaudio.PyAudio()\n",
    "# play sound\n",
    "play_audio_direct( msg, p, 44100 )\n",
    "\n",
    "# terminate pyAudio\n",
    "p.terminate()\n"
   ]
  },
  {
   "cell_type": "code",
   "execution_count": 12,
   "metadata": {
    "collapsed": false
   },
   "outputs": [
    {
     "data": {
      "text/plain": [
       "bitarray('0010100110000110101111001010110111111101011100010110000110100101001000011100101110101000000010010001')"
      ]
     },
     "execution_count": 12,
     "metadata": {},
     "output_type": "execute_result"
    }
   ],
   "source": []
  },
  {
   "cell_type": "markdown",
   "metadata": {},
   "source": [
    "* Tune your radio to the APRS national frequency: 144.39MHz or Channel 117 on your radio. \n",
    "* Send the APRS packet through your radio. As always it is better to be outside in a high place. If you are near Cory Hall you should be OK, we have an APRS internet gateway in Cory.\n",
    "* Sometimes it is useful to send the packet twice, just to make sure it goes through. \n",
    "* Be very carefull that your radio is operating appropriately, i.e., not getting stuck in transmit etc. We do not wish to interfere with the APRS network!\n",
    "\n"
   ]
  },
  {
   "cell_type": "code",
   "execution_count": null,
   "metadata": {
    "collapsed": true
   },
   "outputs": [],
   "source": []
  }
 ],
 "metadata": {
  "kernelspec": {
   "display_name": "Python 2",
   "language": "python",
   "name": "python2"
  },
  "language_info": {
   "codemirror_mode": {
    "name": "ipython",
    "version": 2
   },
   "file_extension": ".py",
   "mimetype": "text/x-python",
   "name": "python",
   "nbconvert_exporter": "python",
   "pygments_lexer": "ipython2",
   "version": "2.7.9"
  }
 },
 "nbformat": 4,
 "nbformat_minor": 0
}
